{
 "cells": [
  {
   "cell_type": "markdown",
   "metadata": {
    "pycharm": {
     "name": "#%% md\n"
    }
   },
   "source": [
    "## Importing dependencies"
   ]
  },
  {
   "cell_type": "code",
   "execution_count": 79,
   "metadata": {
    "pycharm": {
     "name": "#%%\n"
    }
   },
   "outputs": [],
   "source": [
    "import itertools\n",
    "import warnings\n",
    "import statsmodels.api as sm\n",
    "import datetime\n",
    "from statsmodels.tsa.arima_model import ARIMA"
   ]
  },
  {
   "cell_type": "markdown",
   "metadata": {
    "pycharm": {
     "name": "#%% md\n"
    }
   },
   "source": [
    "## RL dependencies"
   ]
  },
  {
   "cell_type": "code",
   "execution_count": 85,
   "metadata": {
    "pycharm": {
     "name": "#%%\n"
    }
   },
   "outputs": [],
   "source": [
    "from stable_baselines.common.vec_env import DummyVecEnv\n",
    "from stable_baselines import A2C\n",
    "from stable_baselines import PPO2\n",
    "import gym\n",
    "import gym_anytrading\n",
    "from gym_anytrading.envs import StocksEnv\n",
    "from gym import spaces"
   ]
  },
  {
   "cell_type": "markdown",
   "metadata": {
    "pycharm": {
     "name": "#%% md\n"
    }
   },
   "source": [
    "## Processing dependencies"
   ]
  },
  {
   "cell_type": "code",
   "execution_count": 2,
   "metadata": {
    "pycharm": {
     "name": "#%%\n"
    }
   },
   "outputs": [],
   "source": [
    "import numpy as np\n",
    "import pandas as pnd\n",
    "from matplotlib import pyplot as plt"
   ]
  },
  {
   "cell_type": "code",
   "execution_count": 6,
   "metadata": {},
   "outputs": [
    {
     "data": {
      "text/html": [
       "<div>\n",
       "<style scoped>\n",
       "    .dataframe tbody tr th:only-of-type {\n",
       "        vertical-align: middle;\n",
       "    }\n",
       "\n",
       "    .dataframe tbody tr th {\n",
       "        vertical-align: top;\n",
       "    }\n",
       "\n",
       "    .dataframe thead th {\n",
       "        text-align: right;\n",
       "    }\n",
       "</style>\n",
       "<table border=\"1\" class=\"dataframe\">\n",
       "  <thead>\n",
       "    <tr style=\"text-align: right;\">\n",
       "      <th></th>\n",
       "      <th>date</th>\n",
       "      <th>volume</th>\n",
       "      <th>open</th>\n",
       "      <th>close</th>\n",
       "      <th>high</th>\n",
       "      <th>low</th>\n",
       "      <th>adjclose</th>\n",
       "    </tr>\n",
       "  </thead>\n",
       "  <tbody>\n",
       "    <tr>\n",
       "      <th>0</th>\n",
       "      <td>2018-11-02</td>\n",
       "      <td>48495800</td>\n",
       "      <td>9.36</td>\n",
       "      <td>9.38</td>\n",
       "      <td>9.45</td>\n",
       "      <td>9.26</td>\n",
       "      <td>9.38</td>\n",
       "    </tr>\n",
       "    <tr>\n",
       "      <th>1</th>\n",
       "      <td>2018-11-01</td>\n",
       "      <td>59794400</td>\n",
       "      <td>9.54</td>\n",
       "      <td>9.29</td>\n",
       "      <td>9.55</td>\n",
       "      <td>9.26</td>\n",
       "      <td>9.29</td>\n",
       "    </tr>\n",
       "    <tr>\n",
       "      <th>2</th>\n",
       "      <td>2018-10-31</td>\n",
       "      <td>68507100</td>\n",
       "      <td>9.62</td>\n",
       "      <td>9.55</td>\n",
       "      <td>9.67</td>\n",
       "      <td>9.43</td>\n",
       "      <td>9.55</td>\n",
       "    </tr>\n",
       "    <tr>\n",
       "      <th>3</th>\n",
       "      <td>2018-10-30</td>\n",
       "      <td>58062000</td>\n",
       "      <td>9.31</td>\n",
       "      <td>9.46</td>\n",
       "      <td>9.56</td>\n",
       "      <td>9.27</td>\n",
       "      <td>9.46</td>\n",
       "    </tr>\n",
       "    <tr>\n",
       "      <th>4</th>\n",
       "      <td>2018-10-29</td>\n",
       "      <td>92275100</td>\n",
       "      <td>9.36</td>\n",
       "      <td>9.28</td>\n",
       "      <td>9.59</td>\n",
       "      <td>9.17</td>\n",
       "      <td>9.28</td>\n",
       "    </tr>\n",
       "  </tbody>\n",
       "</table>\n",
       "</div>"
      ],
      "text/plain": [
       "         date    volume  open  close  high   low  adjclose\n",
       "0  2018-11-02  48495800  9.36   9.38  9.45  9.26      9.38\n",
       "1  2018-11-01  59794400  9.54   9.29  9.55  9.26      9.29\n",
       "2  2018-10-31  68507100  9.62   9.55  9.67  9.43      9.55\n",
       "3  2018-10-30  58062000  9.31   9.46  9.56  9.27      9.46\n",
       "4  2018-10-29  92275100  9.36   9.28  9.59  9.17      9.28"
      ]
     },
     "execution_count": 6,
     "metadata": {},
     "output_type": "execute_result"
    }
   ],
   "source": [
    "df = pnd.read_csv('datasets/F.csv')\n",
    "df.head()"
   ]
  },
  {
   "cell_type": "code",
   "execution_count": 7,
   "metadata": {
    "pycharm": {
     "name": "#%%\n"
    }
   },
   "outputs": [
    {
     "data": {
      "text/plain": [
       "date        datetime64[ns]\n",
       "volume               int64\n",
       "open               float64\n",
       "close              float64\n",
       "high               float64\n",
       "low                float64\n",
       "adjclose           float64\n",
       "dtype: object"
      ]
     },
     "execution_count": 7,
     "metadata": {},
     "output_type": "execute_result"
    }
   ],
   "source": [
    "df['date'] = pnd.to_datetime(df['date'], format='%Y-%m-%d')\n",
    "df.dtypes"
   ]
  },
  {
   "cell_type": "code",
   "execution_count": 6,
   "metadata": {},
   "outputs": [
    {
     "data": {
      "text/plain": [
       "date        0\n",
       "volume      0\n",
       "open        0\n",
       "close       0\n",
       "high        0\n",
       "low         0\n",
       "adjclose    0\n",
       "dtype: int64"
      ]
     },
     "execution_count": 6,
     "metadata": {},
     "output_type": "execute_result"
    }
   ],
   "source": [
    "df.isnull().sum()"
   ]
  },
  {
   "cell_type": "code",
   "execution_count": 8,
   "metadata": {
    "pycharm": {
     "name": "#%%\n"
    }
   },
   "outputs": [
    {
     "data": {
      "text/html": [
       "<div>\n",
       "<style scoped>\n",
       "    .dataframe tbody tr th:only-of-type {\n",
       "        vertical-align: middle;\n",
       "    }\n",
       "\n",
       "    .dataframe tbody tr th {\n",
       "        vertical-align: top;\n",
       "    }\n",
       "\n",
       "    .dataframe thead th {\n",
       "        text-align: right;\n",
       "    }\n",
       "</style>\n",
       "<table border=\"1\" class=\"dataframe\">\n",
       "  <thead>\n",
       "    <tr style=\"text-align: right;\">\n",
       "      <th></th>\n",
       "      <th>date</th>\n",
       "      <th>volume</th>\n",
       "      <th>open</th>\n",
       "      <th>close</th>\n",
       "      <th>high</th>\n",
       "      <th>low</th>\n",
       "      <th>adjclose</th>\n",
       "    </tr>\n",
       "  </thead>\n",
       "  <tbody>\n",
       "    <tr>\n",
       "      <th>11710</th>\n",
       "      <td>1972-06-01</td>\n",
       "      <td>1089200</td>\n",
       "      <td>2.149165</td>\n",
       "      <td>2.153220</td>\n",
       "      <td>2.173495</td>\n",
       "      <td>2.149165</td>\n",
       "      <td>0.003095</td>\n",
       "    </tr>\n",
       "    <tr>\n",
       "      <th>11709</th>\n",
       "      <td>1972-06-02</td>\n",
       "      <td>1173500</td>\n",
       "      <td>2.153220</td>\n",
       "      <td>2.149165</td>\n",
       "      <td>2.173495</td>\n",
       "      <td>2.141055</td>\n",
       "      <td>0.003089</td>\n",
       "    </tr>\n",
       "    <tr>\n",
       "      <th>11708</th>\n",
       "      <td>1972-06-05</td>\n",
       "      <td>5208100</td>\n",
       "      <td>2.149165</td>\n",
       "      <td>2.149165</td>\n",
       "      <td>2.169440</td>\n",
       "      <td>2.141055</td>\n",
       "      <td>0.003089</td>\n",
       "    </tr>\n",
       "    <tr>\n",
       "      <th>11707</th>\n",
       "      <td>1972-06-06</td>\n",
       "      <td>1421400</td>\n",
       "      <td>2.149165</td>\n",
       "      <td>2.124835</td>\n",
       "      <td>2.157275</td>\n",
       "      <td>2.116725</td>\n",
       "      <td>0.003054</td>\n",
       "    </tr>\n",
       "    <tr>\n",
       "      <th>11706</th>\n",
       "      <td>1972-06-07</td>\n",
       "      <td>671800</td>\n",
       "      <td>2.124835</td>\n",
       "      <td>2.112669</td>\n",
       "      <td>2.137000</td>\n",
       "      <td>2.112669</td>\n",
       "      <td>0.003037</td>\n",
       "    </tr>\n",
       "  </tbody>\n",
       "</table>\n",
       "</div>"
      ],
      "text/plain": [
       "            date   volume      open     close      high       low  adjclose\n",
       "11710 1972-06-01  1089200  2.149165  2.153220  2.173495  2.149165  0.003095\n",
       "11709 1972-06-02  1173500  2.153220  2.149165  2.173495  2.141055  0.003089\n",
       "11708 1972-06-05  5208100  2.149165  2.149165  2.169440  2.141055  0.003089\n",
       "11707 1972-06-06  1421400  2.149165  2.124835  2.157275  2.116725  0.003054\n",
       "11706 1972-06-07   671800  2.124835  2.112669  2.137000  2.112669  0.003037"
      ]
     },
     "execution_count": 8,
     "metadata": {},
     "output_type": "execute_result"
    }
   ],
   "source": [
    "df.sort_values('date', ascending=True, inplace=True)\n",
    "df.head()"
   ]
  },
  {
   "cell_type": "code",
   "execution_count": 9,
   "metadata": {
    "pycharm": {
     "name": "#%%\n"
    }
   },
   "outputs": [
    {
     "data": {
      "text/plain": [
       "11710    1972-06\n",
       "11709    1972-06\n",
       "11708    1972-06\n",
       "11707    1972-06\n",
       "11706    1972-06\n",
       "          ...   \n",
       "4        2018-10\n",
       "3        2018-10\n",
       "2        2018-10\n",
       "1        2018-11\n",
       "0        2018-11\n",
       "Name: date, Length: 11711, dtype: period[M]"
      ]
     },
     "execution_count": 9,
     "metadata": {},
     "output_type": "execute_result"
    }
   ],
   "source": [
    "df.date.dt.to_period('M')"
   ]
  },
  {
   "cell_type": "code",
   "execution_count": 10,
   "metadata": {},
   "outputs": [],
   "source": [
    "df.drop(columns=['adjclose'], inplace=True)"
   ]
  },
  {
   "cell_type": "code",
   "execution_count": 11,
   "metadata": {},
   "outputs": [],
   "source": [
    "df = df.groupby(pnd.DatetimeIndex(df.date).to_period('M')).nth(0)\n",
    "df.drop(columns=['date'], inplace=True)"
   ]
  },
  {
   "cell_type": "code",
   "execution_count": 11,
   "metadata": {},
   "outputs": [
    {
     "data": {
      "text/html": [
       "<div>\n",
       "<style scoped>\n",
       "    .dataframe tbody tr th:only-of-type {\n",
       "        vertical-align: middle;\n",
       "    }\n",
       "\n",
       "    .dataframe tbody tr th {\n",
       "        vertical-align: top;\n",
       "    }\n",
       "\n",
       "    .dataframe thead th {\n",
       "        text-align: right;\n",
       "    }\n",
       "</style>\n",
       "<table border=\"1\" class=\"dataframe\">\n",
       "  <thead>\n",
       "    <tr style=\"text-align: right;\">\n",
       "      <th></th>\n",
       "      <th>volume</th>\n",
       "      <th>open</th>\n",
       "      <th>close</th>\n",
       "      <th>high</th>\n",
       "      <th>low</th>\n",
       "    </tr>\n",
       "    <tr>\n",
       "      <th>date</th>\n",
       "      <th></th>\n",
       "      <th></th>\n",
       "      <th></th>\n",
       "      <th></th>\n",
       "      <th></th>\n",
       "    </tr>\n",
       "  </thead>\n",
       "  <tbody>\n",
       "    <tr>\n",
       "      <th>2018-07</th>\n",
       "      <td>37892800</td>\n",
       "      <td>11.02</td>\n",
       "      <td>11.10</td>\n",
       "      <td>11.11</td>\n",
       "      <td>10.91</td>\n",
       "    </tr>\n",
       "    <tr>\n",
       "      <th>2018-08</th>\n",
       "      <td>44126700</td>\n",
       "      <td>10.06</td>\n",
       "      <td>9.90</td>\n",
       "      <td>10.08</td>\n",
       "      <td>9.82</td>\n",
       "    </tr>\n",
       "    <tr>\n",
       "      <th>2018-09</th>\n",
       "      <td>54111100</td>\n",
       "      <td>9.53</td>\n",
       "      <td>9.47</td>\n",
       "      <td>9.58</td>\n",
       "      <td>9.36</td>\n",
       "    </tr>\n",
       "    <tr>\n",
       "      <th>2018-10</th>\n",
       "      <td>44864700</td>\n",
       "      <td>9.43</td>\n",
       "      <td>9.32</td>\n",
       "      <td>9.44</td>\n",
       "      <td>9.30</td>\n",
       "    </tr>\n",
       "    <tr>\n",
       "      <th>2018-11</th>\n",
       "      <td>59794400</td>\n",
       "      <td>9.54</td>\n",
       "      <td>9.29</td>\n",
       "      <td>9.55</td>\n",
       "      <td>9.26</td>\n",
       "    </tr>\n",
       "  </tbody>\n",
       "</table>\n",
       "</div>"
      ],
      "text/plain": [
       "           volume   open  close   high    low\n",
       "date                                         \n",
       "2018-07  37892800  11.02  11.10  11.11  10.91\n",
       "2018-08  44126700  10.06   9.90  10.08   9.82\n",
       "2018-09  54111100   9.53   9.47   9.58   9.36\n",
       "2018-10  44864700   9.43   9.32   9.44   9.30\n",
       "2018-11  59794400   9.54   9.29   9.55   9.26"
      ]
     },
     "execution_count": 11,
     "metadata": {},
     "output_type": "execute_result"
    }
   ],
   "source": [
    "df.tail()"
   ]
  },
  {
   "cell_type": "code",
   "execution_count": 12,
   "metadata": {},
   "outputs": [],
   "source": [
    "# df.set_index('date', inplace=True)"
   ]
  },
  {
   "cell_type": "code",
   "execution_count": 13,
   "metadata": {},
   "outputs": [
    {
     "name": "stdout",
     "output_type": "stream",
     "text": [
      "<class 'pandas._libs.tslibs.timestamps.Timestamp'>\n"
     ]
    }
   ],
   "source": [
    "start_date = pnd.to_datetime('2015-01')\n",
    "print(type(start_date))\n",
    "end_date = pnd.to_datetime('2020-01')"
   ]
  },
  {
   "cell_type": "markdown",
   "metadata": {},
   "source": [
    "### Preparing close set"
   ]
  },
  {
   "cell_type": "code",
   "execution_count": 14,
   "metadata": {},
   "outputs": [
    {
     "name": "stdout",
     "output_type": "stream",
     "text": [
      "test_data_close length:  47 train_data_close length: 181 whole set: 558\n"
     ]
    },
    {
     "name": "stderr",
     "output_type": "stream",
     "text": [
      "/home/dippy/Studies/dl_diploma/venv/lib/python3.7/site-packages/pandas/core/frame.py:4315: SettingWithCopyWarning: \n",
      "A value is trying to be set on a copy of a slice from a DataFrame\n",
      "\n",
      "See the caveats in the documentation: https://pandas.pydata.org/pandas-docs/stable/user_guide/indexing.html#returning-a-view-versus-a-copy\n",
      "  errors=errors,\n"
     ]
    },
    {
     "data": {
      "text/html": [
       "<div>\n",
       "<style scoped>\n",
       "    .dataframe tbody tr th:only-of-type {\n",
       "        vertical-align: middle;\n",
       "    }\n",
       "\n",
       "    .dataframe tbody tr th {\n",
       "        vertical-align: top;\n",
       "    }\n",
       "\n",
       "    .dataframe thead th {\n",
       "        text-align: right;\n",
       "    }\n",
       "</style>\n",
       "<table border=\"1\" class=\"dataframe\">\n",
       "  <thead>\n",
       "    <tr style=\"text-align: right;\">\n",
       "      <th></th>\n",
       "      <th>close</th>\n",
       "    </tr>\n",
       "    <tr>\n",
       "      <th>date</th>\n",
       "      <th></th>\n",
       "    </tr>\n",
       "  </thead>\n",
       "  <tbody>\n",
       "    <tr>\n",
       "      <th>2014-09</th>\n",
       "      <td>17.60</td>\n",
       "    </tr>\n",
       "    <tr>\n",
       "      <th>2014-10</th>\n",
       "      <td>14.59</td>\n",
       "    </tr>\n",
       "    <tr>\n",
       "      <th>2014-11</th>\n",
       "      <td>13.99</td>\n",
       "    </tr>\n",
       "    <tr>\n",
       "      <th>2014-12</th>\n",
       "      <td>15.77</td>\n",
       "    </tr>\n",
       "    <tr>\n",
       "      <th>2015-01</th>\n",
       "      <td>15.36</td>\n",
       "    </tr>\n",
       "  </tbody>\n",
       "</table>\n",
       "</div>"
      ],
      "text/plain": [
       "         close\n",
       "date          \n",
       "2014-09  17.60\n",
       "2014-10  14.59\n",
       "2014-11  13.99\n",
       "2014-12  15.77\n",
       "2015-01  15.36"
      ]
     },
     "execution_count": 14,
     "metadata": {},
     "output_type": "execute_result"
    }
   ],
   "source": [
    "train_data_close = df['2000-01':'2015-01']\n",
    "train_data_close.drop(columns=['open', 'high', 'volume', 'low'], inplace=True)\n",
    "test_data_close = df['2015-01':'2020-01']\n",
    "test_data_close.drop(columns=['open', 'high', 'volume', 'low'], inplace=True)\n",
    "print('test_data_close length: ', len(test_data_close), 'train_data_close length:', len(train_data_close), 'whole set:', len(df))\n",
    "train_data_close.tail()"
   ]
  },
  {
   "cell_type": "markdown",
   "metadata": {},
   "source": [
    "### Preparing low set"
   ]
  },
  {
   "cell_type": "code",
   "execution_count": 15,
   "metadata": {},
   "outputs": [
    {
     "name": "stdout",
     "output_type": "stream",
     "text": [
      "test_data_low length:  47 train_data_low length: 181 whole set: 558\n"
     ]
    },
    {
     "name": "stderr",
     "output_type": "stream",
     "text": [
      "/home/dippy/Studies/dl_diploma/venv/lib/python3.7/site-packages/pandas/core/frame.py:4315: SettingWithCopyWarning: \n",
      "A value is trying to be set on a copy of a slice from a DataFrame\n",
      "\n",
      "See the caveats in the documentation: https://pandas.pydata.org/pandas-docs/stable/user_guide/indexing.html#returning-a-view-versus-a-copy\n",
      "  errors=errors,\n"
     ]
    },
    {
     "data": {
      "text/html": [
       "<div>\n",
       "<style scoped>\n",
       "    .dataframe tbody tr th:only-of-type {\n",
       "        vertical-align: middle;\n",
       "    }\n",
       "\n",
       "    .dataframe tbody tr th {\n",
       "        vertical-align: top;\n",
       "    }\n",
       "\n",
       "    .dataframe thead th {\n",
       "        text-align: right;\n",
       "    }\n",
       "</style>\n",
       "<table border=\"1\" class=\"dataframe\">\n",
       "  <thead>\n",
       "    <tr style=\"text-align: right;\">\n",
       "      <th></th>\n",
       "      <th>low</th>\n",
       "    </tr>\n",
       "    <tr>\n",
       "      <th>date</th>\n",
       "      <th></th>\n",
       "    </tr>\n",
       "  </thead>\n",
       "  <tbody>\n",
       "    <tr>\n",
       "      <th>2014-09</th>\n",
       "      <td>17.48</td>\n",
       "    </tr>\n",
       "    <tr>\n",
       "      <th>2014-10</th>\n",
       "      <td>14.56</td>\n",
       "    </tr>\n",
       "    <tr>\n",
       "      <th>2014-11</th>\n",
       "      <td>13.94</td>\n",
       "    </tr>\n",
       "    <tr>\n",
       "      <th>2014-12</th>\n",
       "      <td>15.70</td>\n",
       "    </tr>\n",
       "    <tr>\n",
       "      <th>2015-01</th>\n",
       "      <td>15.18</td>\n",
       "    </tr>\n",
       "  </tbody>\n",
       "</table>\n",
       "</div>"
      ],
      "text/plain": [
       "           low\n",
       "date          \n",
       "2014-09  17.48\n",
       "2014-10  14.56\n",
       "2014-11  13.94\n",
       "2014-12  15.70\n",
       "2015-01  15.18"
      ]
     },
     "execution_count": 15,
     "metadata": {},
     "output_type": "execute_result"
    }
   ],
   "source": [
    "train_data_low = df['2000-01':'2015-01']\n",
    "train_data_low.drop(columns=['open', 'high','volume', 'close'], inplace=True)\n",
    "test_data_low = df['2015-01':'2020-01']\n",
    "test_data_low.drop(columns=['open', 'high','volume', 'close'], inplace=True)\n",
    "print('test_data_low length: ', len(test_data_low), 'train_data_low length:', len(train_data_low), 'whole set:', len(df))\n",
    "train_data_low.tail()"
   ]
  },
  {
   "cell_type": "markdown",
   "metadata": {},
   "source": [
    "### Preparing high set"
   ]
  },
  {
   "cell_type": "code",
   "execution_count": 16,
   "metadata": {},
   "outputs": [
    {
     "name": "stdout",
     "output_type": "stream",
     "text": [
      "test_data_high length:  47 train_data_high length: 181 whole set: 558\n"
     ]
    },
    {
     "name": "stderr",
     "output_type": "stream",
     "text": [
      "/home/dippy/Studies/dl_diploma/venv/lib/python3.7/site-packages/pandas/core/frame.py:4315: SettingWithCopyWarning: \n",
      "A value is trying to be set on a copy of a slice from a DataFrame\n",
      "\n",
      "See the caveats in the documentation: https://pandas.pydata.org/pandas-docs/stable/user_guide/indexing.html#returning-a-view-versus-a-copy\n",
      "  errors=errors,\n"
     ]
    },
    {
     "data": {
      "text/html": [
       "<div>\n",
       "<style scoped>\n",
       "    .dataframe tbody tr th:only-of-type {\n",
       "        vertical-align: middle;\n",
       "    }\n",
       "\n",
       "    .dataframe tbody tr th {\n",
       "        vertical-align: top;\n",
       "    }\n",
       "\n",
       "    .dataframe thead th {\n",
       "        text-align: right;\n",
       "    }\n",
       "</style>\n",
       "<table border=\"1\" class=\"dataframe\">\n",
       "  <thead>\n",
       "    <tr style=\"text-align: right;\">\n",
       "      <th></th>\n",
       "      <th>high</th>\n",
       "    </tr>\n",
       "    <tr>\n",
       "      <th>date</th>\n",
       "      <th></th>\n",
       "    </tr>\n",
       "  </thead>\n",
       "  <tbody>\n",
       "    <tr>\n",
       "      <th>2014-09</th>\n",
       "      <td>17.620001</td>\n",
       "    </tr>\n",
       "    <tr>\n",
       "      <th>2014-10</th>\n",
       "      <td>14.830000</td>\n",
       "    </tr>\n",
       "    <tr>\n",
       "      <th>2014-11</th>\n",
       "      <td>14.170000</td>\n",
       "    </tr>\n",
       "    <tr>\n",
       "      <th>2014-12</th>\n",
       "      <td>15.890000</td>\n",
       "    </tr>\n",
       "    <tr>\n",
       "      <th>2015-01</th>\n",
       "      <td>15.650000</td>\n",
       "    </tr>\n",
       "  </tbody>\n",
       "</table>\n",
       "</div>"
      ],
      "text/plain": [
       "              high\n",
       "date              \n",
       "2014-09  17.620001\n",
       "2014-10  14.830000\n",
       "2014-11  14.170000\n",
       "2014-12  15.890000\n",
       "2015-01  15.650000"
      ]
     },
     "execution_count": 16,
     "metadata": {},
     "output_type": "execute_result"
    }
   ],
   "source": [
    "train_data_high = df['2000-01':'2015-01']\n",
    "train_data_high.drop(columns=['open', 'low','volume', 'close'], inplace=True)\n",
    "test_data_high = df['2015-01':'2020-01']\n",
    "test_data_high.drop(columns=['open', 'low','volume', 'close'], inplace=True)\n",
    "print('test_data_high length: ', len(test_data_high), 'train_data_high length:', len(train_data_high), 'whole set:', len(df))\n",
    "train_data_high.tail()"
   ]
  },
  {
   "cell_type": "markdown",
   "metadata": {},
   "source": [
    "### Preparing open set"
   ]
  },
  {
   "cell_type": "code",
   "execution_count": 17,
   "metadata": {},
   "outputs": [
    {
     "name": "stdout",
     "output_type": "stream",
     "text": [
      "test_data_open length:  47 train_data_open length: 181 whole set: 558\n"
     ]
    },
    {
     "name": "stderr",
     "output_type": "stream",
     "text": [
      "/home/dippy/Studies/dl_diploma/venv/lib/python3.7/site-packages/pandas/core/frame.py:4315: SettingWithCopyWarning: \n",
      "A value is trying to be set on a copy of a slice from a DataFrame\n",
      "\n",
      "See the caveats in the documentation: https://pandas.pydata.org/pandas-docs/stable/user_guide/indexing.html#returning-a-view-versus-a-copy\n",
      "  errors=errors,\n"
     ]
    },
    {
     "data": {
      "text/html": [
       "<div>\n",
       "<style scoped>\n",
       "    .dataframe tbody tr th:only-of-type {\n",
       "        vertical-align: middle;\n",
       "    }\n",
       "\n",
       "    .dataframe tbody tr th {\n",
       "        vertical-align: top;\n",
       "    }\n",
       "\n",
       "    .dataframe thead th {\n",
       "        text-align: right;\n",
       "    }\n",
       "</style>\n",
       "<table border=\"1\" class=\"dataframe\">\n",
       "  <thead>\n",
       "    <tr style=\"text-align: right;\">\n",
       "      <th></th>\n",
       "      <th>open</th>\n",
       "    </tr>\n",
       "    <tr>\n",
       "      <th>date</th>\n",
       "      <th></th>\n",
       "    </tr>\n",
       "  </thead>\n",
       "  <tbody>\n",
       "    <tr>\n",
       "      <th>2014-09</th>\n",
       "      <td>17.48</td>\n",
       "    </tr>\n",
       "    <tr>\n",
       "      <th>2014-10</th>\n",
       "      <td>14.77</td>\n",
       "    </tr>\n",
       "    <tr>\n",
       "      <th>2014-11</th>\n",
       "      <td>14.10</td>\n",
       "    </tr>\n",
       "    <tr>\n",
       "      <th>2014-12</th>\n",
       "      <td>15.78</td>\n",
       "    </tr>\n",
       "    <tr>\n",
       "      <th>2015-01</th>\n",
       "      <td>15.59</td>\n",
       "    </tr>\n",
       "  </tbody>\n",
       "</table>\n",
       "</div>"
      ],
      "text/plain": [
       "          open\n",
       "date          \n",
       "2014-09  17.48\n",
       "2014-10  14.77\n",
       "2014-11  14.10\n",
       "2014-12  15.78\n",
       "2015-01  15.59"
      ]
     },
     "execution_count": 17,
     "metadata": {},
     "output_type": "execute_result"
    }
   ],
   "source": [
    "train_data_open = df['2000-01':'2015-01']\n",
    "train_data_open.drop(columns=['high', 'low','volume', 'close'], inplace=True)\n",
    "test_data_open = df['2015-01':'2020-01']\n",
    "test_data_open.drop(columns=['high', 'low','volume', 'close'], inplace=True)\n",
    "print('test_data_open length: ', len(test_data_open), 'train_data_open length:', len(train_data_open), 'whole set:', len(df))\n",
    "train_data_open.tail()"
   ]
  },
  {
   "cell_type": "markdown",
   "metadata": {},
   "source": [
    "## ARIMA Model"
   ]
  },
  {
   "cell_type": "code",
   "execution_count": 18,
   "metadata": {},
   "outputs": [
    {
     "name": "stdout",
     "output_type": "stream",
     "text": [
      "Examples of parameter combinations for Seasonal ARIMA...\n",
      "SARIMAX: (0, 0, 1) x (0, 0, 1, 12)\n",
      "SARIMAX: (0, 0, 1) x (0, 1, 0, 12)\n",
      "SARIMAX: (0, 1, 0) x (0, 1, 1, 12)\n",
      "SARIMAX: (0, 1, 0) x (1, 0, 0, 12)\n"
     ]
    }
   ],
   "source": [
    "# Define the d and q parameters to take any value between 0 and 1\n",
    "q = d = range(0, 2)\n",
    "# Define the p parameters to take any value between 0 and 3\n",
    "p = range(0, 4)\n",
    "\n",
    "# Generate all different combinations of p, q and q triplets\n",
    "pdq = list(itertools.product(p, d, q))\n",
    "\n",
    "# Generate all different combinations of seasonal p, q and q triplets\n",
    "seasonal_pdq = [(x[0], x[1], x[2], 12) for x in list(itertools.product(p, d, q))]\n",
    "\n",
    "print('Examples of parameter combinations for Seasonal ARIMA...')\n",
    "print('SARIMAX: {} x {}'.format(pdq[1], seasonal_pdq[1]))\n",
    "print('SARIMAX: {} x {}'.format(pdq[1], seasonal_pdq[2]))\n",
    "print('SARIMAX: {} x {}'.format(pdq[2], seasonal_pdq[3]))\n",
    "print('SARIMAX: {} x {}'.format(pdq[2], seasonal_pdq[4]))"
   ]
  },
  {
   "cell_type": "code",
   "execution_count": 19,
   "metadata": {},
   "outputs": [
    {
     "name": "stdout",
     "output_type": "stream",
     "text": [
      "SARIMAX(3, 1, 1)x(3, 1, 1, 12) - AIC:438.01830173172376\r"
     ]
    }
   ],
   "source": [
    "warnings.filterwarnings(\"ignore\") # specify to ignore warning messages\n",
    "\n",
    "AIC = []\n",
    "SARIMAX_model = []\n",
    "for param in pdq:\n",
    "    for param_seasonal in seasonal_pdq:\n",
    "        try:\n",
    "            mod = sm.tsa.statespace.SARIMAX(train_data_close,\n",
    "                                            order=param,\n",
    "                                            seasonal_order=param_seasonal,\n",
    "                                            enforce_stationarity=False,\n",
    "                                            enforce_invertibility=False)\n",
    "\n",
    "            results = mod.fit()\n",
    "\n",
    "            print('SARIMAX{}x{} - AIC:{}'.format(param, param_seasonal, results.aic), end='\\r')\n",
    "            AIC.append(results.aic)\n",
    "            SARIMAX_model.append([param, param_seasonal])\n",
    "        except:\n",
    "            continue"
   ]
  },
  {
   "cell_type": "code",
   "execution_count": 20,
   "metadata": {},
   "outputs": [
    {
     "name": "stdout",
     "output_type": "stream",
     "text": [
      "The smallest AIC is 436.0183165459671 for model SARIMAX(3, 1, 0)x(3, 1, 1, 12)\n"
     ]
    }
   ],
   "source": [
    "print('The smallest AIC is {} for model SARIMAX{}x{}'.format(min(AIC), SARIMAX_model[AIC.index(min(AIC))][0],SARIMAX_model[AIC.index(min(AIC))][1]))"
   ]
  },
  {
   "cell_type": "markdown",
   "metadata": {},
   "source": [
    "### ARIMA for close"
   ]
  },
  {
   "cell_type": "code",
   "execution_count": 26,
   "metadata": {},
   "outputs": [],
   "source": [
    "# mod_close = ARIMA(train_data_close,order=(3,2,1))\n",
    "# results_close = mod_close.fit(disp=-1)\n",
    "\n",
    "# Let's fit this model\n",
    "mod_close = sm.tsa.statespace.SARIMAX(train_data_close,\n",
    "                                order=SARIMAX_model[AIC.index(min(AIC))][0],\n",
    "                                seasonal_order=SARIMAX_model[AIC.index(min(AIC))][1],\n",
    "                                enforce_stationarity=False,\n",
    "                                enforce_invertibility=False)\n",
    "\n",
    "results_close = mod_close.fit()"
   ]
  },
  {
   "cell_type": "code",
   "execution_count": 15,
   "metadata": {},
   "outputs": [
    {
     "name": "stdout",
     "output_type": "stream",
     "text": [
      "[[0. 0. 0. 0. 0. 0. 0. 0. 0. 0. 0. 0. 0. 0. 0. 0. 0. 0. 0. 0. 0. 0. 0. 0.\n",
      "  0. 0. 0. 0. 0. 0. 0. 0. 0. 0. 0. 0. 0. 0. 0. 0. 0.]\n",
      " [0. 0. 0. 0. 0. 0. 0. 0. 0. 0. 0. 0. 0. 0. 0. 0. 0. 0. 0. 0. 0. 0. 0. 0.\n",
      "  0. 0. 0. 0. 0. 0. 0. 0. 0. 0. 0. 0. 0. 0. 0. 0. 0.]\n",
      " [0. 0. 0. 0. 0. 0. 0. 0. 0. 0. 0. 0. 0. 0. 0. 0. 0. 0. 0. 0. 0. 0. 0. 0.\n",
      "  0. 0. 0. 0. 0. 0. 0. 0. 0. 0. 0. 0. 0. 0. 0. 0. 0.]\n",
      " [0. 0. 0. 0. 0. 0. 0. 0. 0. 0. 0. 0. 0. 0. 0. 0. 0. 0. 0. 0. 0. 0. 0. 0.\n",
      "  0. 0. 0. 0. 0. 0. 0. 0. 0. 0. 0. 0. 0. 0. 0. 0. 0.]]\n"
     ]
    },
    {
     "ename": "KeyError",
     "evalue": "\"Cannot interpret 'open' as period\"",
     "output_type": "error",
     "traceback": [
      "\u001B[0;31m---------------------------------------------------------------------------\u001B[0m",
      "\u001B[0;31mValueError\u001B[0m                                Traceback (most recent call last)",
      "\u001B[0;32mpandas/_libs/tslibs/parsing.pyx\u001B[0m in \u001B[0;36mpandas._libs.tslibs.parsing.parse_datetime_string_with_reso\u001B[0;34m()\u001B[0m\n",
      "\u001B[0;32mpandas/_libs/tslibs/parsing.pyx\u001B[0m in \u001B[0;36mpandas._libs.tslibs.parsing.dateutil_parse\u001B[0;34m()\u001B[0m\n",
      "\u001B[0;31mValueError\u001B[0m: Unknown datetime string format, unable to parse: open",
      "\nDuring handling of the above exception, another exception occurred:\n",
      "\u001B[0;31mDateParseError\u001B[0m                            Traceback (most recent call last)",
      "\u001B[0;32m~/Studies/dl_diploma/venv/lib/python3.7/site-packages/pandas/core/indexes/period.py\u001B[0m in \u001B[0;36mget_loc\u001B[0;34m(self, key, method, tolerance)\u001B[0m\n\u001B[1;32m    505\u001B[0m             \u001B[0;32mtry\u001B[0m\u001B[0;34m:\u001B[0m\u001B[0;34m\u001B[0m\u001B[0;34m\u001B[0m\u001B[0m\n\u001B[0;32m--> 506\u001B[0;31m                 \u001B[0masdt\u001B[0m\u001B[0;34m,\u001B[0m \u001B[0mreso\u001B[0m \u001B[0;34m=\u001B[0m \u001B[0mparse_time_string\u001B[0m\u001B[0;34m(\u001B[0m\u001B[0mkey\u001B[0m\u001B[0;34m,\u001B[0m \u001B[0mself\u001B[0m\u001B[0;34m.\u001B[0m\u001B[0mfreq\u001B[0m\u001B[0;34m)\u001B[0m\u001B[0;34m\u001B[0m\u001B[0;34m\u001B[0m\u001B[0m\n\u001B[0m\u001B[1;32m    507\u001B[0m             \u001B[0;32mexcept\u001B[0m \u001B[0;34m(\u001B[0m\u001B[0mValueError\u001B[0m\u001B[0;34m,\u001B[0m \u001B[0mDateParseError\u001B[0m\u001B[0;34m)\u001B[0m \u001B[0;32mas\u001B[0m \u001B[0merr\u001B[0m\u001B[0;34m:\u001B[0m\u001B[0;34m\u001B[0m\u001B[0;34m\u001B[0m\u001B[0m\n",
      "\u001B[0;32mpandas/_libs/tslibs/parsing.pyx\u001B[0m in \u001B[0;36mpandas._libs.tslibs.parsing.parse_time_string\u001B[0;34m()\u001B[0m\n",
      "\u001B[0;32mpandas/_libs/tslibs/parsing.pyx\u001B[0m in \u001B[0;36mpandas._libs.tslibs.parsing.parse_datetime_string_with_reso\u001B[0;34m()\u001B[0m\n",
      "\u001B[0;31mDateParseError\u001B[0m: Unknown datetime string format, unable to parse: open",
      "\nThe above exception was the direct cause of the following exception:\n",
      "\u001B[0;31mKeyError\u001B[0m                                  Traceback (most recent call last)",
      "\u001B[0;32m<ipython-input-15-0cd12165c37d>\u001B[0m in \u001B[0;36m<module>\u001B[0;34m\u001B[0m\n\u001B[1;32m      3\u001B[0m \u001B[0mprint\u001B[0m\u001B[0;34m(\u001B[0m\u001B[0mframe\u001B[0m\u001B[0;34m)\u001B[0m\u001B[0;34m\u001B[0m\u001B[0;34m\u001B[0m\u001B[0m\n\u001B[1;32m      4\u001B[0m np.put(frame, [0, 3], [\n\u001B[0;32m----> 5\u001B[0;31m             \u001B[0mdf\u001B[0m\u001B[0;34m.\u001B[0m\u001B[0mloc\u001B[0m\u001B[0;34m[\u001B[0m \u001B[0;34m'open'\u001B[0m\u001B[0;34m]\u001B[0m\u001B[0;34m.\u001B[0m\u001B[0mvalues\u001B[0m \u001B[0;34m/\u001B[0m \u001B[0mMAX_SHARE_PRICE\u001B[0m\u001B[0;34m,\u001B[0m\u001B[0;34m\u001B[0m\u001B[0;34m\u001B[0m\u001B[0m\n\u001B[0m\u001B[1;32m      6\u001B[0m             \u001B[0mdf\u001B[0m\u001B[0;34m.\u001B[0m\u001B[0mloc\u001B[0m\u001B[0;34m[\u001B[0m\u001B[0mcurrent_step\u001B[0m\u001B[0;34m:\u001B[0m \u001B[0;36m40\u001B[0m \u001B[0;34m+\u001B[0m \u001B[0;36m1\u001B[0m\u001B[0;34m,\u001B[0m \u001B[0;34m'high'\u001B[0m\u001B[0;34m]\u001B[0m\u001B[0;34m.\u001B[0m\u001B[0mvalues\u001B[0m \u001B[0;34m/\u001B[0m \u001B[0mMAX_SHARE_PRICE\u001B[0m\u001B[0;34m,\u001B[0m\u001B[0;34m\u001B[0m\u001B[0;34m\u001B[0m\u001B[0m\n\u001B[1;32m      7\u001B[0m             \u001B[0mdf\u001B[0m\u001B[0;34m.\u001B[0m\u001B[0mloc\u001B[0m\u001B[0;34m[\u001B[0m\u001B[0mcurrent_step\u001B[0m\u001B[0;34m:\u001B[0m \u001B[0;36m40\u001B[0m \u001B[0;34m+\u001B[0m \u001B[0;36m1\u001B[0m\u001B[0;34m,\u001B[0m \u001B[0;34m'low'\u001B[0m\u001B[0;34m]\u001B[0m\u001B[0;34m.\u001B[0m\u001B[0mvalues\u001B[0m \u001B[0;34m/\u001B[0m \u001B[0mMAX_SHARE_PRICE\u001B[0m\u001B[0;34m,\u001B[0m\u001B[0;34m\u001B[0m\u001B[0;34m\u001B[0m\u001B[0m\n",
      "\u001B[0;32m~/Studies/dl_diploma/venv/lib/python3.7/site-packages/pandas/core/indexing.py\u001B[0m in \u001B[0;36m__getitem__\u001B[0;34m(self, key)\u001B[0m\n\u001B[1;32m    893\u001B[0m \u001B[0;34m\u001B[0m\u001B[0m\n\u001B[1;32m    894\u001B[0m             \u001B[0mmaybe_callable\u001B[0m \u001B[0;34m=\u001B[0m \u001B[0mcom\u001B[0m\u001B[0;34m.\u001B[0m\u001B[0mapply_if_callable\u001B[0m\u001B[0;34m(\u001B[0m\u001B[0mkey\u001B[0m\u001B[0;34m,\u001B[0m \u001B[0mself\u001B[0m\u001B[0;34m.\u001B[0m\u001B[0mobj\u001B[0m\u001B[0;34m)\u001B[0m\u001B[0;34m\u001B[0m\u001B[0;34m\u001B[0m\u001B[0m\n\u001B[0;32m--> 895\u001B[0;31m             \u001B[0;32mreturn\u001B[0m \u001B[0mself\u001B[0m\u001B[0;34m.\u001B[0m\u001B[0m_getitem_axis\u001B[0m\u001B[0;34m(\u001B[0m\u001B[0mmaybe_callable\u001B[0m\u001B[0;34m,\u001B[0m \u001B[0maxis\u001B[0m\u001B[0;34m=\u001B[0m\u001B[0maxis\u001B[0m\u001B[0;34m)\u001B[0m\u001B[0;34m\u001B[0m\u001B[0;34m\u001B[0m\u001B[0m\n\u001B[0m\u001B[1;32m    896\u001B[0m \u001B[0;34m\u001B[0m\u001B[0m\n\u001B[1;32m    897\u001B[0m     \u001B[0;32mdef\u001B[0m \u001B[0m_is_scalar_access\u001B[0m\u001B[0;34m(\u001B[0m\u001B[0mself\u001B[0m\u001B[0;34m,\u001B[0m \u001B[0mkey\u001B[0m\u001B[0;34m:\u001B[0m \u001B[0mTuple\u001B[0m\u001B[0;34m)\u001B[0m\u001B[0;34m:\u001B[0m\u001B[0;34m\u001B[0m\u001B[0;34m\u001B[0m\u001B[0m\n",
      "\u001B[0;32m~/Studies/dl_diploma/venv/lib/python3.7/site-packages/pandas/core/indexing.py\u001B[0m in \u001B[0;36m_getitem_axis\u001B[0;34m(self, key, axis)\u001B[0m\n\u001B[1;32m   1122\u001B[0m         \u001B[0;31m# fall thru to straight lookup\u001B[0m\u001B[0;34m\u001B[0m\u001B[0;34m\u001B[0m\u001B[0;34m\u001B[0m\u001B[0m\n\u001B[1;32m   1123\u001B[0m         \u001B[0mself\u001B[0m\u001B[0;34m.\u001B[0m\u001B[0m_validate_key\u001B[0m\u001B[0;34m(\u001B[0m\u001B[0mkey\u001B[0m\u001B[0;34m,\u001B[0m \u001B[0maxis\u001B[0m\u001B[0;34m)\u001B[0m\u001B[0;34m\u001B[0m\u001B[0;34m\u001B[0m\u001B[0m\n\u001B[0;32m-> 1124\u001B[0;31m         \u001B[0;32mreturn\u001B[0m \u001B[0mself\u001B[0m\u001B[0;34m.\u001B[0m\u001B[0m_get_label\u001B[0m\u001B[0;34m(\u001B[0m\u001B[0mkey\u001B[0m\u001B[0;34m,\u001B[0m \u001B[0maxis\u001B[0m\u001B[0;34m=\u001B[0m\u001B[0maxis\u001B[0m\u001B[0;34m)\u001B[0m\u001B[0;34m\u001B[0m\u001B[0;34m\u001B[0m\u001B[0m\n\u001B[0m\u001B[1;32m   1125\u001B[0m \u001B[0;34m\u001B[0m\u001B[0m\n\u001B[1;32m   1126\u001B[0m     \u001B[0;32mdef\u001B[0m \u001B[0m_get_slice_axis\u001B[0m\u001B[0;34m(\u001B[0m\u001B[0mself\u001B[0m\u001B[0;34m,\u001B[0m \u001B[0mslice_obj\u001B[0m\u001B[0;34m:\u001B[0m \u001B[0mslice\u001B[0m\u001B[0;34m,\u001B[0m \u001B[0maxis\u001B[0m\u001B[0;34m:\u001B[0m \u001B[0mint\u001B[0m\u001B[0;34m)\u001B[0m\u001B[0;34m:\u001B[0m\u001B[0;34m\u001B[0m\u001B[0;34m\u001B[0m\u001B[0m\n",
      "\u001B[0;32m~/Studies/dl_diploma/venv/lib/python3.7/site-packages/pandas/core/indexing.py\u001B[0m in \u001B[0;36m_get_label\u001B[0;34m(self, label, axis)\u001B[0m\n\u001B[1;32m   1071\u001B[0m     \u001B[0;32mdef\u001B[0m \u001B[0m_get_label\u001B[0m\u001B[0;34m(\u001B[0m\u001B[0mself\u001B[0m\u001B[0;34m,\u001B[0m \u001B[0mlabel\u001B[0m\u001B[0;34m,\u001B[0m \u001B[0maxis\u001B[0m\u001B[0;34m:\u001B[0m \u001B[0mint\u001B[0m\u001B[0;34m)\u001B[0m\u001B[0;34m:\u001B[0m\u001B[0;34m\u001B[0m\u001B[0;34m\u001B[0m\u001B[0m\n\u001B[1;32m   1072\u001B[0m         \u001B[0;31m# GH#5667 this will fail if the label is not present in the axis.\u001B[0m\u001B[0;34m\u001B[0m\u001B[0;34m\u001B[0m\u001B[0;34m\u001B[0m\u001B[0m\n\u001B[0;32m-> 1073\u001B[0;31m         \u001B[0;32mreturn\u001B[0m \u001B[0mself\u001B[0m\u001B[0;34m.\u001B[0m\u001B[0mobj\u001B[0m\u001B[0;34m.\u001B[0m\u001B[0mxs\u001B[0m\u001B[0;34m(\u001B[0m\u001B[0mlabel\u001B[0m\u001B[0;34m,\u001B[0m \u001B[0maxis\u001B[0m\u001B[0;34m=\u001B[0m\u001B[0maxis\u001B[0m\u001B[0;34m)\u001B[0m\u001B[0;34m\u001B[0m\u001B[0;34m\u001B[0m\u001B[0m\n\u001B[0m\u001B[1;32m   1074\u001B[0m \u001B[0;34m\u001B[0m\u001B[0m\n\u001B[1;32m   1075\u001B[0m     \u001B[0;32mdef\u001B[0m \u001B[0m_handle_lowerdim_multi_index_axis0\u001B[0m\u001B[0;34m(\u001B[0m\u001B[0mself\u001B[0m\u001B[0;34m,\u001B[0m \u001B[0mtup\u001B[0m\u001B[0;34m:\u001B[0m \u001B[0mTuple\u001B[0m\u001B[0;34m)\u001B[0m\u001B[0;34m:\u001B[0m\u001B[0;34m\u001B[0m\u001B[0;34m\u001B[0m\u001B[0m\n",
      "\u001B[0;32m~/Studies/dl_diploma/venv/lib/python3.7/site-packages/pandas/core/generic.py\u001B[0m in \u001B[0;36mxs\u001B[0;34m(self, key, axis, level, drop_level)\u001B[0m\n\u001B[1;32m   3737\u001B[0m                 \u001B[0;32mraise\u001B[0m \u001B[0mTypeError\u001B[0m\u001B[0;34m(\u001B[0m\u001B[0;34mf\"Expected label or tuple of labels, got {key}\"\u001B[0m\u001B[0;34m)\u001B[0m \u001B[0;32mfrom\u001B[0m \u001B[0me\u001B[0m\u001B[0;34m\u001B[0m\u001B[0;34m\u001B[0m\u001B[0m\n\u001B[1;32m   3738\u001B[0m         \u001B[0;32melse\u001B[0m\u001B[0;34m:\u001B[0m\u001B[0;34m\u001B[0m\u001B[0;34m\u001B[0m\u001B[0m\n\u001B[0;32m-> 3739\u001B[0;31m             \u001B[0mloc\u001B[0m \u001B[0;34m=\u001B[0m \u001B[0mindex\u001B[0m\u001B[0;34m.\u001B[0m\u001B[0mget_loc\u001B[0m\u001B[0;34m(\u001B[0m\u001B[0mkey\u001B[0m\u001B[0;34m)\u001B[0m\u001B[0;34m\u001B[0m\u001B[0;34m\u001B[0m\u001B[0m\n\u001B[0m\u001B[1;32m   3740\u001B[0m \u001B[0;34m\u001B[0m\u001B[0m\n\u001B[1;32m   3741\u001B[0m             \u001B[0;32mif\u001B[0m \u001B[0misinstance\u001B[0m\u001B[0;34m(\u001B[0m\u001B[0mloc\u001B[0m\u001B[0;34m,\u001B[0m \u001B[0mnp\u001B[0m\u001B[0;34m.\u001B[0m\u001B[0mndarray\u001B[0m\u001B[0;34m)\u001B[0m\u001B[0;34m:\u001B[0m\u001B[0;34m\u001B[0m\u001B[0;34m\u001B[0m\u001B[0m\n",
      "\u001B[0;32m~/Studies/dl_diploma/venv/lib/python3.7/site-packages/pandas/core/indexes/period.py\u001B[0m in \u001B[0;36mget_loc\u001B[0;34m(self, key, method, tolerance)\u001B[0m\n\u001B[1;32m    507\u001B[0m             \u001B[0;32mexcept\u001B[0m \u001B[0;34m(\u001B[0m\u001B[0mValueError\u001B[0m\u001B[0;34m,\u001B[0m \u001B[0mDateParseError\u001B[0m\u001B[0;34m)\u001B[0m \u001B[0;32mas\u001B[0m \u001B[0merr\u001B[0m\u001B[0;34m:\u001B[0m\u001B[0;34m\u001B[0m\u001B[0;34m\u001B[0m\u001B[0m\n\u001B[1;32m    508\u001B[0m                 \u001B[0;31m# A string with invalid format\u001B[0m\u001B[0;34m\u001B[0m\u001B[0;34m\u001B[0m\u001B[0;34m\u001B[0m\u001B[0m\n\u001B[0;32m--> 509\u001B[0;31m                 \u001B[0;32mraise\u001B[0m \u001B[0mKeyError\u001B[0m\u001B[0;34m(\u001B[0m\u001B[0;34mf\"Cannot interpret '{key}' as period\"\u001B[0m\u001B[0;34m)\u001B[0m \u001B[0;32mfrom\u001B[0m \u001B[0merr\u001B[0m\u001B[0;34m\u001B[0m\u001B[0;34m\u001B[0m\u001B[0m\n\u001B[0m\u001B[1;32m    510\u001B[0m \u001B[0;34m\u001B[0m\u001B[0m\n\u001B[1;32m    511\u001B[0m             \u001B[0mreso\u001B[0m \u001B[0;34m=\u001B[0m \u001B[0mResolution\u001B[0m\u001B[0;34m.\u001B[0m\u001B[0mfrom_attrname\u001B[0m\u001B[0;34m(\u001B[0m\u001B[0mreso\u001B[0m\u001B[0;34m)\u001B[0m\u001B[0;34m\u001B[0m\u001B[0;34m\u001B[0m\u001B[0m\n",
      "\u001B[0;31mKeyError\u001B[0m: \"Cannot interpret 'open' as period\""
     ]
    }
   ],
   "source": [
    "frame = np.zeros((4, 40 + 1))\n",
    "current_step\n",
    "print(frame)\n",
    "np.put(frame, [0, 3], [\n",
    "            df.loc[current_step: 40 + 1, 'open'].values / MAX_SHARE_PRICE,\n",
    "            df.loc[current_step: 40 + 1, 'high'].values / MAX_SHARE_PRICE,\n",
    "            df.loc[current_step: 40 + 1, 'low'].values / MAX_SHARE_PRICE,\n",
    "            df.loc[current_step: 40 + 1, 'close'].values / MAX_SHARE_PRICE,\n",
    "        ])"
   ]
  },
  {
   "cell_type": "markdown",
   "metadata": {},
   "source": [
    "### ARIMA for open"
   ]
  },
  {
   "cell_type": "code",
   "execution_count": 27,
   "metadata": {},
   "outputs": [],
   "source": [
    "# mod_open = ARIMA(train_data_open,order=(3,1,1))\n",
    "# results_open = mod_open.fit(disp=-1)\n",
    "\n",
    "mod_open = sm.tsa.statespace.SARIMAX(train_data_open,\n",
    "                                order=SARIMAX_model[AIC.index(min(AIC))][0],\n",
    "                                seasonal_order=SARIMAX_model[AIC.index(min(AIC))][1],\n",
    "                                enforce_stationarity=False,\n",
    "                                enforce_invertibility=False)\n",
    "\n",
    "results_open = mod_open.fit()"
   ]
  },
  {
   "cell_type": "markdown",
   "metadata": {},
   "source": [
    "### ARIMA for low"
   ]
  },
  {
   "cell_type": "code",
   "execution_count": 28,
   "metadata": {},
   "outputs": [],
   "source": [
    "# mod_low = ARIMA(train_data_low,order=(3,1,1))\n",
    "# results_low = mod_low.fit(disp=-1)\n",
    "\n",
    "mod_low = sm.tsa.statespace.SARIMAX(train_data_low,\n",
    "                                order=SARIMAX_model[AIC.index(min(AIC))][0],\n",
    "                                seasonal_order=SARIMAX_model[AIC.index(min(AIC))][1],\n",
    "                                enforce_stationarity=False,\n",
    "                                enforce_invertibility=False)\n",
    "\n",
    "results_low = mod_low.fit()"
   ]
  },
  {
   "cell_type": "markdown",
   "metadata": {},
   "source": [
    "### ARIMA for high"
   ]
  },
  {
   "cell_type": "code",
   "execution_count": 29,
   "metadata": {},
   "outputs": [],
   "source": [
    "# mod_high = ARIMA(train_data_high,order=(3,2,1))\n",
    "# results_high = mod_high.fit(disp=-1)\n",
    "\n",
    "mod_high = sm.tsa.statespace.SARIMAX(train_data_high,\n",
    "                                order=SARIMAX_model[AIC.index(min(AIC))][0],\n",
    "                                seasonal_order=SARIMAX_model[AIC.index(min(AIC))][1],\n",
    "                                enforce_stationarity=False,\n",
    "                                enforce_invertibility=False)\n",
    "\n",
    "results_high = mod_high.fit()"
   ]
  },
  {
   "cell_type": "markdown",
   "metadata": {},
   "source": [
    "## ARIMA Prediction"
   ]
  },
  {
   "cell_type": "markdown",
   "metadata": {},
   "source": [
    "### Close ARIMA"
   ]
  },
  {
   "cell_type": "code",
   "execution_count": 30,
   "metadata": {},
   "outputs": [],
   "source": [
    "index = pnd.date_range(start_date,end_date, freq='M').strftime('%Y-%m')\n",
    "pred_close = results_close.get_forecast(end_date)\n",
    "pred_close_ci = pred_close.conf_int()\n",
    "fc_series_close = pred_close.predicted_mean\n",
    "# lower_series_close = pnd.Series(conf[:, 0], index=index)\n",
    "# upper_series_close = pnd.Series(conf[:, 1], index=index)"
   ]
  },
  {
   "cell_type": "markdown",
   "metadata": {},
   "source": [
    "### Open ARIMA"
   ]
  },
  {
   "cell_type": "code",
   "execution_count": 31,
   "metadata": {},
   "outputs": [],
   "source": [
    "index = pnd.date_range(start_date,end_date, freq='M').strftime('%Y-%m')\n",
    "pred_open = results_open.get_forecast(end_date)\n",
    "pred_open_ci = pred_open.conf_int()\n",
    "fc_series_open = pred_open.predicted_mean\n",
    "# lower_series_open = pnd.Series(conf[:, 0], index=index)\n",
    "# upper_series_open = pnd.Series(conf[:, 1], index=index)"
   ]
  },
  {
   "cell_type": "markdown",
   "metadata": {},
   "source": [
    "### Low ARIMA"
   ]
  },
  {
   "cell_type": "code",
   "execution_count": 32,
   "metadata": {},
   "outputs": [],
   "source": [
    "index = pnd.date_range(start_date,end_date, freq='M').strftime('%Y-%m')\n",
    "pred_low = results_low.get_forecast(end_date)\n",
    "pred_low_ci = pred_low.conf_int()\n",
    "fc_series_low = pred_low.predicted_mean\n",
    "# lower_series_low = pnd.Series(conf[:, 0], index=index)\n",
    "# upper_series_low = pnd.Series(conf[:, 1], index=index)"
   ]
  },
  {
   "cell_type": "markdown",
   "metadata": {},
   "source": [
    "### High ARIMA"
   ]
  },
  {
   "cell_type": "code",
   "execution_count": 33,
   "metadata": {},
   "outputs": [],
   "source": [
    "index = pnd.date_range(start_date,end_date, freq='M').strftime('%Y-%m')\n",
    "pred_high = results_high.get_forecast(end_date)\n",
    "pred_high_ci = pred_high.conf_int()\n",
    "fc_series_high = pred_high.predicted_mean\n",
    "# lower_series_high = pnd.Series(conf[:, 0], index=index)\n",
    "# upper_series_chigh = pnd.Series(conf[:, 1], index=index)"
   ]
  },
  {
   "cell_type": "markdown",
   "metadata": {},
   "source": [
    "## SARIMAX Plot and test plot comparison"
   ]
  },
  {
   "cell_type": "code",
   "execution_count": 29,
   "metadata": {},
   "outputs": [
    {
     "data": {
      "image/png": "[encoded data removed]",
      "text/plain": [
       "<Figure size 1440x1296 with 1 Axes>"
      ]
     },
     "metadata": {
      "needs_background": "light"
     },
     "output_type": "display_data"
    },
    {
     "data": {
      "image/png": "[encoded data removed]",
      "text/plain": [
       "<Figure size 1440x1296 with 1 Axes>"
      ]
     },
     "metadata": {
      "needs_background": "light"
     },
     "output_type": "display_data"
    }
   ],
   "source": [
    "ax = test_data_close.plot(y='close',figsize=(20, 18))\n",
    "bx = test_data_open.plot(y='open',figsize=(20, 18))\n",
    "pred_close.predicted_mean.plot(ax=ax, label='Dynamic Forecast close (get_forecast)')\n",
    "pred_open.predicted_mean.plot(ax=bx, label='Dynamic Forecast open (get_forecast)')\n",
    "ax.fill_between(pred_close_ci.index, pred_close_ci.iloc[:, 0], pred_close_ci.iloc[:, 1], color='k', alpha=.1)\n",
    "bx.fill_between(pred_open_ci.index, pred_open_ci.iloc[:, 0], pred_open_ci.iloc[:, 1], color='k', alpha=.1)\n",
    "# plt.plot(fc_series_close, label='forecast_close')\n",
    "# plt.plot(fc_series_open, label='forecast_open')\n",
    "# plt.plot(fc_series_low, label='forecast_low')\n",
    "# plt.plot(fc_series_high, label='forecast_high')\n",
    "# plt.xlim(left=start_date, right=end_date)\n",
    "# plt.ylabel('close')\n",
    "# plt.fill_between(lower_series_close.index, lower_series_close, upper_series_close, \n",
    "#                  color='k', alpha=.15)\n",
    "# plt.fill_between(lower_series_low.index, lower_series_low, upper_series_low, \n",
    "#                  color='k', alpha=.15)\n",
    "plt.xlabel('date')\n",
    "plt.legend()\n",
    "plt.show()"
   ]
  },
  {
   "cell_type": "markdown",
   "metadata": {},
   "source": [
    "## Generating new Dataframe with forecast"
   ]
  },
  {
   "cell_type": "code",
   "execution_count": 36,
   "metadata": {},
   "outputs": [
    {
     "name": "stdout",
     "output_type": "stream",
     "text": [
      "60 60\n"
     ]
    },
    {
     "data": {
      "text/html": [
       "<div>\n",
       "<style scoped>\n",
       "    .dataframe tbody tr th:only-of-type {\n",
       "        vertical-align: middle;\n",
       "    }\n",
       "\n",
       "    .dataframe tbody tr th {\n",
       "        vertical-align: top;\n",
       "    }\n",
       "\n",
       "    .dataframe thead th {\n",
       "        text-align: right;\n",
       "    }\n",
       "</style>\n",
       "<table border=\"1\" class=\"dataframe\">\n",
       "  <thead>\n",
       "    <tr style=\"text-align: right;\">\n",
       "      <th></th>\n",
       "      <th>index</th>\n",
       "      <th>date</th>\n",
       "      <th>close</th>\n",
       "      <th>low</th>\n",
       "      <th>open</th>\n",
       "      <th>high</th>\n",
       "    </tr>\n",
       "  </thead>\n",
       "  <tbody>\n",
       "    <tr>\n",
       "      <th>0</th>\n",
       "      <td>2015-02</td>\n",
       "      <td>2015-01</td>\n",
       "      <td>14.922086</td>\n",
       "      <td>14.713516</td>\n",
       "      <td>15.368960</td>\n",
       "      <td>15.322763</td>\n",
       "    </tr>\n",
       "    <tr>\n",
       "      <th>1</th>\n",
       "      <td>2015-03</td>\n",
       "      <td>2015-02</td>\n",
       "      <td>14.625451</td>\n",
       "      <td>14.745822</td>\n",
       "      <td>15.106119</td>\n",
       "      <td>15.050239</td>\n",
       "    </tr>\n",
       "    <tr>\n",
       "      <th>2</th>\n",
       "      <td>2015-04</td>\n",
       "      <td>2015-03</td>\n",
       "      <td>14.585823</td>\n",
       "      <td>15.188419</td>\n",
       "      <td>15.032342</td>\n",
       "      <td>15.056161</td>\n",
       "    </tr>\n",
       "    <tr>\n",
       "      <th>3</th>\n",
       "      <td>2015-05</td>\n",
       "      <td>2015-04</td>\n",
       "      <td>15.436712</td>\n",
       "      <td>15.196485</td>\n",
       "      <td>15.890716</td>\n",
       "      <td>15.840862</td>\n",
       "    </tr>\n",
       "    <tr>\n",
       "      <th>4</th>\n",
       "      <td>2015-06</td>\n",
       "      <td>2015-05</td>\n",
       "      <td>14.810465</td>\n",
       "      <td>15.255937</td>\n",
       "      <td>15.426893</td>\n",
       "      <td>15.384007</td>\n",
       "    </tr>\n",
       "  </tbody>\n",
       "</table>\n",
       "</div>"
      ],
      "text/plain": [
       "     index     date      close        low       open       high\n",
       "0  2015-02  2015-01  14.922086  14.713516  15.368960  15.322763\n",
       "1  2015-03  2015-02  14.625451  14.745822  15.106119  15.050239\n",
       "2  2015-04  2015-03  14.585823  15.188419  15.032342  15.056161\n",
       "3  2015-05  2015-04  15.436712  15.196485  15.890716  15.840862\n",
       "4  2015-06  2015-05  14.810465  15.255937  15.426893  15.384007"
      ]
     },
     "execution_count": 36,
     "metadata": {},
     "output_type": "execute_result"
    }
   ],
   "source": [
    "print(len(index), len(fc_series_close))\n",
    "frame = {'date': index, 'close':fc_series_close, 'low': fc_series_low, 'open': fc_series_open, 'high': fc_series_high}\n",
    "new_df = pnd.DataFrame(frame)\n",
    "new_df = new_df.reset_index()\n",
    "new_df.head()"
   ]
  },
  {
   "cell_type": "code",
   "execution_count": 157,
   "metadata": {
    "pycharm": {
     "name": "#%%\n"
    }
   },
   "outputs": [],
   "source": [
    "from finta import TA\n",
    "\n",
    "new_df['SMA'] = TA.SMA(new_df, 12)\n",
    "new_df['RSI'] = TA.RSI(new_df)\n",
    "new_df['MACD'] = 0\n",
    "new_df['MOM'] = TA.MOM(new_df)\n",
    "new_df['MACD'] = TA.MACD(new_df)\n",
    "new_df['EMA'] = TA.EMA(new_df)\n",
    "new_df.fillna(0, inplace=True)\n"
   ]
  },
  {
   "cell_type": "code",
   "execution_count": 153,
   "metadata": {
    "pycharm": {
     "name": "#%%\n"
    }
   },
   "outputs": [],
   "source": [
    "MAX_ACCOUNT_BALANCE = 2147483647\n",
    "MAX_NUM_SHARES = 2147483647\n",
    "MAX_SHARE_PRICE = 5000\n",
    "MAX_OPEN_POSITIONS = 5\n",
    "MAX_STEPS = 20000\n",
    "\n",
    "INITIAL_ACCOUNT_BALANCE = 10000\n",
    "\n",
    "def add_signals(env):\n",
    "    start = env.frame_bound[0] - env.window_size\n",
    "    end = env.frame_bound[1]\n",
    "    prices = env.df.loc[:, 'low'].to_numpy()[start:end]\n",
    "    signal_features = env.df.loc[:, ['low','SMA', 'RSI', 'MACD','MOM', 'EMA']].to_numpy()[start:end]\n",
    "    return prices, signal_features\n",
    "\n",
    "\n",
    "def stock_process_data(df, window_size, frame_bound):\n",
    "    start = frame_bound[0] - window_size\n",
    "    end = frame_bound[1]\n",
    "    prices = df.loc[:, 'low'].to_numpy()[start:end]\n",
    "    signal_features = df.loc[:, ['close', 'open', 'high', 'low']].to_numpy()[start:end]\n",
    "    return prices, signal_features\n",
    "\n",
    "\n",
    "class StockTradingEnv(StocksEnv):\n",
    "    _process_data = add_signals\n",
    "    \"\"\"A stock trading environment for OpenAI gym\"\"\"\n",
    "    metadata = {'render.modes': ['human']}\n",
    "    \n",
    "    def __init__(self, prices, signal_features, **kwargs):\n",
    "        self._prices = prices\n",
    "        self._signal_features = signal_features\n",
    "        super(StockTradingEnv, self).__init__(**kwargs)\n",
    "        self.df = df\n",
    "        self.reward_range = (0, MAX_ACCOUNT_BALANCE) \n",
    "        # Actions of the format Buy x%, Sell x%, Hold, etc.\n",
    "        self.action_space = spaces.Box(\n",
    "          low=np.array([0, 0]), high=np.array([3, 1]), dtype=np.float16)\n",
    "        # Prices contains the OHCL values for the last five prices\n",
    "        self.observation_space = spaces.Box(\n",
    "          low=0, high=1, shape=(6, 6), dtype=np.float16)\n",
    "\n",
    "    def reset(self):\n",
    "        # Reset the state of the environment to an initial state\n",
    "        self.balance = INITIAL_ACCOUNT_BALANCE\n",
    "        self.net_worth = INITIAL_ACCOUNT_BALANCE\n",
    "        self.max_net_worth = INITIAL_ACCOUNT_BALANCE\n",
    "        self.shares_held = 0\n",
    "        self.cost_basis = 0\n",
    "        self.total_shares_sold = 0\n",
    "        self.total_sales_value = 0\n",
    "        # Set the current step to a random point within the data frame\n",
    "        self.current_step = random.randint(0, len(self.df.loc[:, 'Open'].values) - 6)\n",
    "        return self._next_observation()\n",
    "\n",
    "    def _next_observation(self):\n",
    "        # Get the data points for the last 5 days and scale to between 0-1\n",
    "        frame = np.array([\n",
    "        self.df.loc[self.current_step: self.current_step +\n",
    "                    5, 'Open'].values / MAX_SHARE_PRICE,\n",
    "        self.df.loc[self.current_step: self.current_step +\n",
    "                    5, 'High'].values / MAX_SHARE_PRICE,\n",
    "        self.df.loc[self.current_step: self.current_step +\n",
    "                    5, 'Low'].values / MAX_SHARE_PRICE,\n",
    "        self.df.loc[self.current_step: self.current_step +\n",
    "                    5, 'Close'].values / MAX_SHARE_PRICE,\n",
    "        self.df.loc[self.current_step: self.current_step +\n",
    "                    5, 'Volume'].values / MAX_NUM_SHARES,\n",
    "        ])\n",
    "        # Append additional data and scale each value to between 0-1\n",
    "        obs = np.append(frame, [[\n",
    "        self.balance / MAX_ACCOUNT_BALANCE,\n",
    "        self.max_net_worth / MAX_ACCOUNT_BALANCE,\n",
    "        self.shares_held / MAX_NUM_SHARES,\n",
    "        self.cost_basis / MAX_SHARE_PRICE,\n",
    "        self.total_shares_sold / MAX_NUM_SHARES,\n",
    "        self.total_sales_value / (MAX_NUM_SHARES * MAX_SHARE_PRICE),\n",
    "        ]], axis=0)\n",
    "        return obs\n",
    "    \n",
    "    def _process_data(self):\n",
    "        return self._prices, self._signal_features\n",
    "\n",
    "    def step(self, action):\n",
    "        # Execute one time step within the environment\n",
    "        self._take_action(action)\n",
    "        self.current_step += 1\n",
    "        if self.current_step > len(self.df.loc[:, 'Open'].values) - 6:\n",
    "            self.current_step = 0\n",
    "        delay_modifier = (self.current_step / MAX_STEPS)\n",
    "\n",
    "        reward = self.balance * delay_modifier\n",
    "        done = self.net_worth <= 0\n",
    "        obs = self._next_observation()\n",
    "        return obs, reward, done, {}\n",
    "    \n",
    "    def _take_action(self, action):\n",
    "          # Set the current price to a random price within the time step\n",
    "        current_price = random.uniform(\n",
    "        self.df.loc[self.current_step, \"Open\"],\n",
    "            self.df.loc[self.current_step, \"Close\"])\n",
    "        action_type = action[0]\n",
    "        amount = action[1]\n",
    "        if action_type < 1:\n",
    "            # Buy amount % of balance in shares\n",
    "            total_possible = self.balance / current_price\n",
    "            shares_bought = total_possible * amount\n",
    "            prev_cost = self.cost_basis * self.shares_held\n",
    "            additional_cost = shares_bought * current_price\n",
    "            self.balance -= additional_cost\n",
    "            self.cost_basis = (prev_cost + additional_cost) / (self.shares_held + shares_bought)\n",
    "            self.shares_held += shares_bought\n",
    "        elif actionType < 2:\n",
    "            # Sell amount % of shares held\n",
    "            shares_sold = self.shares_held * amount\n",
    "            self.balance += shares_sold * current_price\n",
    "            self.shares_held -= shares_sold\n",
    "            self.total_shares_sold += shares_sold\n",
    "            self.total_sales_value += shares_sold * current_price\n",
    "            self.netWorth = self.balance + self.shares_held * current_price\n",
    "        if self.net_worth > self.max_net_worth:\n",
    "            self.max_net_worth = net_worth\n",
    "        if self.shares_held == 0:\n",
    "            self.cost_basis = 0\n",
    "            \n",
    "    def render(self, mode='human', close=False):\n",
    "        # Render the environment to the screen\n",
    "        profit = self.net_worth - INITIAL_ACCOUNT_BALANCE\n",
    "        print(f'Step: {self.current_step}')\n",
    "        print(f'Balance: {self.balance}')\n",
    "        print(f'Shares held: {self.shares_held}(Total sold: {self.total_shares_sold})')\n",
    "        print(f'Avg cost for held shares: {self.cost_basis}(Total sales value: {self.total_sales_value})')\n",
    "        print(f'Net worth: {self.net_worth}(Max net worth: {self.max_net_worth})')\n",
    "        print(f'Profit: {profit}')"
   ]
  },
  {
   "cell_type": "code",
   "execution_count": 160,
   "metadata": {
    "pycharm": {
     "name": "#%%\n"
    }
   },
   "outputs": [],
   "source": [
    "prices, signal_features = stock_process_data(df=new_df, window_size=30, frame_bound=(30, len(new_df)))\n",
    "env2 = StockTradingEnv(prices, signal_features, df=new_df, frame_bound=(30, len(new_df)), window_size=6)"
   ]
  },
  {
   "cell_type": "code",
   "execution_count": 161,
   "metadata": {
    "pycharm": {
     "name": "#%%\n"
    }
   },
   "outputs": [
    {
     "data": {
      "text/plain": [
       "array([[14.9220863 , 15.36895972, 15.3227634 , 14.71351598],\n",
       "       [14.62545083, 15.10611927, 15.05023931, 14.74582195],\n",
       "       [14.58582346, 15.03234181, 15.05616097, 15.188419  ],\n",
       "       [15.43671246, 15.89071597, 15.84086224, 15.19648496],\n",
       "       [14.81046515, 15.42689252, 15.3840066 , 15.25593733],\n",
       "       [14.58168107, 15.29039496, 15.19684907, 15.28662627],\n",
       "       [14.60409067, 15.40064143, 15.3187485 , 15.07364253],\n",
       "       [14.12745972, 14.93896256, 14.82271126, 15.04874456],\n",
       "       [13.49873685, 14.41141672, 14.26518833, 13.72343471],\n",
       "       [13.52368239, 14.40522135, 14.2051072 , 14.00391992],\n",
       "       [14.11931491, 15.04447992, 14.83549535, 14.84895018],\n",
       "       [14.71857798, 15.39709726, 15.25368231, 14.8177168 ],\n",
       "       [14.60688986, 15.34883106, 15.15151041, 14.69784755],\n",
       "       [14.17385326, 14.96715938, 14.78898081, 14.69530234],\n",
       "       [13.93180389, 14.84910627, 14.63272603, 15.09228627],\n",
       "       [14.74657574, 15.58815511, 15.37078249, 14.96961523],\n",
       "       [14.14017167, 15.14173565, 14.93443846, 15.24732365],\n",
       "       [13.65988849, 14.77746676, 14.51109745, 15.20565261],\n",
       "       [13.86611407, 15.02053402, 14.74969863, 15.24183462],\n",
       "       [13.1925478 , 14.44201237, 14.14403137, 15.22349609],\n",
       "       [13.32237798, 14.43140682, 14.15238769, 14.42315744],\n",
       "       [13.58918918, 14.65986898, 14.30925468, 14.6710911 ],\n",
       "       [13.8535088 , 15.05234506, 14.69566151, 15.4400032 ],\n",
       "       [14.57394738, 15.45630703, 15.17954415, 15.34150331],\n",
       "       [14.44385843, 15.40463228, 15.08447202, 15.07109037],\n",
       "       [14.0925311 , 15.03106802, 14.75366414, 15.08819229],\n",
       "       [14.00422431, 14.99088387, 14.71524008, 15.55140329],\n",
       "       [14.65292355, 15.68360183, 15.36612838, 15.58706615],\n",
       "       [14.51706156, 15.51034363, 15.24944929, 16.20234961],\n",
       "       [14.14661632, 15.19435813, 14.89315658, 16.30834109],\n",
       "       [14.4718389 , 15.51561139, 15.23233412, 16.48152709],\n",
       "       [13.88252297, 14.98424235, 14.67617389, 16.47726735],\n",
       "       [13.9385269 , 14.91348838, 14.65552659, 15.51731746],\n",
       "       [14.10442099, 15.12515438, 14.76514106, 15.55041109],\n",
       "       [14.44025867, 15.52558328, 15.16474928, 16.41407999],\n",
       "       [14.80757975, 15.73209004, 15.39285541, 15.97436235],\n",
       "       [14.55697991, 15.63925851, 15.24839727, 15.58160694],\n",
       "       [14.34150855, 15.31965418, 14.9895659 , 15.70140164],\n",
       "       [14.42659931, 15.33007349, 15.0859023 , 16.18481234],\n",
       "       [14.94114266, 16.00988798, 15.64525376, 16.22631895],\n",
       "       [14.92799798, 15.90372977, 15.59717338, 16.70300883],\n",
       "       [14.72350059, 15.69800299, 15.38375797, 16.88047837],\n",
       "       [14.96047329, 15.96975183, 15.66987496, 16.88859649],\n",
       "       [14.55624625, 15.52638384, 15.22199945, 17.00643118],\n",
       "       [14.18101365, 15.20718423, 14.8918228 , 15.67153197],\n",
       "       [14.22544951, 15.33188342, 14.90769533, 15.65706109],\n",
       "       [14.76566984, 15.85043974, 15.45301644, 16.65828911],\n",
       "       [14.99590577, 16.00315147, 15.60825148, 16.30454833],\n",
       "       [14.71327998, 15.89651397, 15.44119854, 15.95699193],\n",
       "       [14.4946471 , 15.58603481, 15.1853208 , 16.03248348],\n",
       "       [14.56842666, 15.58937704, 15.27683975, 16.49249304],\n",
       "       [15.1236527 , 16.28513893, 15.85578318, 16.49960596],\n",
       "       [15.00715091, 16.13855291, 15.75204186, 16.88436802],\n",
       "       [14.80631989, 15.94561166, 15.54936051, 16.99360892],\n",
       "       [14.99798289, 16.19448507, 15.80778962, 16.98379088],\n",
       "       [14.59645873, 15.75496047, 15.36157296, 17.0441293 ],\n",
       "       [14.15482994, 15.39948022, 14.98354367, 15.83473775],\n",
       "       [14.19436492, 15.50664268, 14.98693515, 15.91854362],\n",
       "       [14.75509016, 16.04557461, 15.55269596, 16.84213463],\n",
       "       [15.04785129, 16.22240147, 15.74465579, 16.57874958]])"
      ]
     },
     "execution_count": 161,
     "metadata": {},
     "output_type": "execute_result"
    }
   ],
   "source": [
    "env2.signal_features"
   ]
  },
  {
   "cell_type": "code",
   "execution_count": 156,
   "metadata": {
    "pycharm": {
     "name": "#%%\n"
    }
   },
   "outputs": [
    {
     "data": {
      "text/plain": [
       "Box(0.0, 3.0, (2,), float16)"
      ]
     },
     "execution_count": 156,
     "metadata": {},
     "output_type": "execute_result"
    }
   ],
   "source": [
    "env2.action_space"
   ]
  },
  {
   "cell_type": "code",
   "execution_count": 158,
   "metadata": {},
   "outputs": [
    {
     "data": {
      "text/html": [
       "<div>\n",
       "<style scoped>\n",
       "    .dataframe tbody tr th:only-of-type {\n",
       "        vertical-align: middle;\n",
       "    }\n",
       "\n",
       "    .dataframe tbody tr th {\n",
       "        vertical-align: top;\n",
       "    }\n",
       "\n",
       "    .dataframe thead th {\n",
       "        text-align: right;\n",
       "    }\n",
       "</style>\n",
       "<table border=\"1\" class=\"dataframe\">\n",
       "  <thead>\n",
       "    <tr style=\"text-align: right;\">\n",
       "      <th></th>\n",
       "      <th>close</th>\n",
       "      <th>low</th>\n",
       "      <th>open</th>\n",
       "      <th>high</th>\n",
       "      <th>SMA</th>\n",
       "      <th>RSI</th>\n",
       "      <th>MACD</th>\n",
       "      <th>EMA</th>\n",
       "      <th>MOM</th>\n",
       "    </tr>\n",
       "    <tr>\n",
       "      <th>date</th>\n",
       "      <th></th>\n",
       "      <th></th>\n",
       "      <th></th>\n",
       "      <th></th>\n",
       "      <th></th>\n",
       "      <th></th>\n",
       "      <th></th>\n",
       "      <th></th>\n",
       "      <th></th>\n",
       "    </tr>\n",
       "  </thead>\n",
       "  <tbody>\n",
       "    <tr>\n",
       "      <th>2015-01</th>\n",
       "      <td>14.922086</td>\n",
       "      <td>14.713516</td>\n",
       "      <td>15.368960</td>\n",
       "      <td>15.322763</td>\n",
       "      <td>0.000000</td>\n",
       "      <td>0.000000</td>\n",
       "      <td>0.000000</td>\n",
       "      <td>14.922086</td>\n",
       "      <td>0.000000</td>\n",
       "    </tr>\n",
       "    <tr>\n",
       "      <th>2015-02</th>\n",
       "      <td>14.625451</td>\n",
       "      <td>14.745822</td>\n",
       "      <td>15.106119</td>\n",
       "      <td>15.050239</td>\n",
       "      <td>0.000000</td>\n",
       "      <td>0.000000</td>\n",
       "      <td>-0.006655</td>\n",
       "      <td>14.757289</td>\n",
       "      <td>0.000000</td>\n",
       "    </tr>\n",
       "    <tr>\n",
       "      <th>2015-03</th>\n",
       "      <td>14.585823</td>\n",
       "      <td>15.188419</td>\n",
       "      <td>15.032342</td>\n",
       "      <td>15.056161</td>\n",
       "      <td>0.000000</td>\n",
       "      <td>0.000000</td>\n",
       "      <td>-0.009709</td>\n",
       "      <td>14.687016</td>\n",
       "      <td>0.000000</td>\n",
       "    </tr>\n",
       "    <tr>\n",
       "      <th>2015-04</th>\n",
       "      <td>15.436712</td>\n",
       "      <td>15.196485</td>\n",
       "      <td>15.890716</td>\n",
       "      <td>15.840862</td>\n",
       "      <td>0.000000</td>\n",
       "      <td>74.413647</td>\n",
       "      <td>0.019861</td>\n",
       "      <td>14.940978</td>\n",
       "      <td>0.000000</td>\n",
       "    </tr>\n",
       "    <tr>\n",
       "      <th>2015-05</th>\n",
       "      <td>14.810465</td>\n",
       "      <td>15.255937</td>\n",
       "      <td>15.426893</td>\n",
       "      <td>15.384007</td>\n",
       "      <td>0.000000</td>\n",
       "      <td>46.806705</td>\n",
       "      <td>0.010591</td>\n",
       "      <td>14.902154</td>\n",
       "      <td>0.000000</td>\n",
       "    </tr>\n",
       "    <tr>\n",
       "      <th>2015-06</th>\n",
       "      <td>14.581681</td>\n",
       "      <td>15.286626</td>\n",
       "      <td>15.290395</td>\n",
       "      <td>15.196849</td>\n",
       "      <td>0.000000</td>\n",
       "      <td>40.845015</td>\n",
       "      <td>-0.004963</td>\n",
       "      <td>14.815288</td>\n",
       "      <td>0.000000</td>\n",
       "    </tr>\n",
       "    <tr>\n",
       "      <th>2015-07</th>\n",
       "      <td>14.604091</td>\n",
       "      <td>15.073643</td>\n",
       "      <td>15.400641</td>\n",
       "      <td>15.318749</td>\n",
       "      <td>0.000000</td>\n",
       "      <td>41.629256</td>\n",
       "      <td>-0.013838</td>\n",
       "      <td>14.761839</td>\n",
       "      <td>0.000000</td>\n",
       "    </tr>\n",
       "    <tr>\n",
       "      <th>2015-08</th>\n",
       "      <td>14.127460</td>\n",
       "      <td>15.048745</td>\n",
       "      <td>14.938963</td>\n",
       "      <td>14.822711</td>\n",
       "      <td>0.000000</td>\n",
       "      <td>31.932544</td>\n",
       "      <td>-0.042235</td>\n",
       "      <td>14.609386</td>\n",
       "      <td>0.000000</td>\n",
       "    </tr>\n",
       "    <tr>\n",
       "      <th>2015-09</th>\n",
       "      <td>13.498737</td>\n",
       "      <td>13.723435</td>\n",
       "      <td>14.411417</td>\n",
       "      <td>14.265188</td>\n",
       "      <td>0.000000</td>\n",
       "      <td>23.993322</td>\n",
       "      <td>-0.092450</td>\n",
       "      <td>14.352821</td>\n",
       "      <td>0.000000</td>\n",
       "    </tr>\n",
       "    <tr>\n",
       "      <th>2015-10</th>\n",
       "      <td>13.523682</td>\n",
       "      <td>14.003920</td>\n",
       "      <td>14.405221</td>\n",
       "      <td>14.205107</td>\n",
       "      <td>0.000000</td>\n",
       "      <td>24.792282</td>\n",
       "      <td>-0.125441</td>\n",
       "      <td>14.167045</td>\n",
       "      <td>0.000000</td>\n",
       "    </tr>\n",
       "    <tr>\n",
       "      <th>2015-11</th>\n",
       "      <td>14.119315</td>\n",
       "      <td>14.848950</td>\n",
       "      <td>15.044480</td>\n",
       "      <td>14.835495</td>\n",
       "      <td>0.000000</td>\n",
       "      <td>40.795239</td>\n",
       "      <td>-0.115789</td>\n",
       "      <td>14.156602</td>\n",
       "      <td>-0.802771</td>\n",
       "    </tr>\n",
       "    <tr>\n",
       "      <th>2015-12</th>\n",
       "      <td>14.718578</td>\n",
       "      <td>14.817717</td>\n",
       "      <td>15.397097</td>\n",
       "      <td>15.253682</td>\n",
       "      <td>14.462840</td>\n",
       "      <td>51.887489</td>\n",
       "      <td>-0.074219</td>\n",
       "      <td>14.277291</td>\n",
       "      <td>0.093127</td>\n",
       "    </tr>\n",
       "    <tr>\n",
       "      <th>2016-01</th>\n",
       "      <td>14.606890</td>\n",
       "      <td>14.697848</td>\n",
       "      <td>15.348831</td>\n",
       "      <td>15.151510</td>\n",
       "      <td>14.436574</td>\n",
       "      <td>50.007011</td>\n",
       "      <td>-0.048714</td>\n",
       "      <td>14.347046</td>\n",
       "      <td>0.021066</td>\n",
       "    </tr>\n",
       "    <tr>\n",
       "      <th>2016-02</th>\n",
       "      <td>14.173853</td>\n",
       "      <td>14.695302</td>\n",
       "      <td>14.967159</td>\n",
       "      <td>14.788981</td>\n",
       "      <td>14.398941</td>\n",
       "      <td>43.434353</td>\n",
       "      <td>-0.054088</td>\n",
       "      <td>14.310814</td>\n",
       "      <td>-1.262859</td>\n",
       "    </tr>\n",
       "    <tr>\n",
       "      <th>2016-03</th>\n",
       "      <td>13.931804</td>\n",
       "      <td>15.092286</td>\n",
       "      <td>14.849106</td>\n",
       "      <td>14.632726</td>\n",
       "      <td>14.344439</td>\n",
       "      <td>40.249872</td>\n",
       "      <td>-0.071814</td>\n",
       "      <td>14.232247</td>\n",
       "      <td>-0.878661</td>\n",
       "    </tr>\n",
       "  </tbody>\n",
       "</table>\n",
       "</div>"
      ],
      "text/plain": [
       "             close        low       open       high        SMA        RSI  \\\n",
       "date                                                                        \n",
       "2015-01  14.922086  14.713516  15.368960  15.322763   0.000000   0.000000   \n",
       "2015-02  14.625451  14.745822  15.106119  15.050239   0.000000   0.000000   \n",
       "2015-03  14.585823  15.188419  15.032342  15.056161   0.000000   0.000000   \n",
       "2015-04  15.436712  15.196485  15.890716  15.840862   0.000000  74.413647   \n",
       "2015-05  14.810465  15.255937  15.426893  15.384007   0.000000  46.806705   \n",
       "2015-06  14.581681  15.286626  15.290395  15.196849   0.000000  40.845015   \n",
       "2015-07  14.604091  15.073643  15.400641  15.318749   0.000000  41.629256   \n",
       "2015-08  14.127460  15.048745  14.938963  14.822711   0.000000  31.932544   \n",
       "2015-09  13.498737  13.723435  14.411417  14.265188   0.000000  23.993322   \n",
       "2015-10  13.523682  14.003920  14.405221  14.205107   0.000000  24.792282   \n",
       "2015-11  14.119315  14.848950  15.044480  14.835495   0.000000  40.795239   \n",
       "2015-12  14.718578  14.817717  15.397097  15.253682  14.462840  51.887489   \n",
       "2016-01  14.606890  14.697848  15.348831  15.151510  14.436574  50.007011   \n",
       "2016-02  14.173853  14.695302  14.967159  14.788981  14.398941  43.434353   \n",
       "2016-03  13.931804  15.092286  14.849106  14.632726  14.344439  40.249872   \n",
       "\n",
       "             MACD        EMA       MOM  \n",
       "date                                    \n",
       "2015-01  0.000000  14.922086  0.000000  \n",
       "2015-02 -0.006655  14.757289  0.000000  \n",
       "2015-03 -0.009709  14.687016  0.000000  \n",
       "2015-04  0.019861  14.940978  0.000000  \n",
       "2015-05  0.010591  14.902154  0.000000  \n",
       "2015-06 -0.004963  14.815288  0.000000  \n",
       "2015-07 -0.013838  14.761839  0.000000  \n",
       "2015-08 -0.042235  14.609386  0.000000  \n",
       "2015-09 -0.092450  14.352821  0.000000  \n",
       "2015-10 -0.125441  14.167045  0.000000  \n",
       "2015-11 -0.115789  14.156602 -0.802771  \n",
       "2015-12 -0.074219  14.277291  0.093127  \n",
       "2016-01 -0.048714  14.347046  0.021066  \n",
       "2016-02 -0.054088  14.310814 -1.262859  \n",
       "2016-03 -0.071814  14.232247 -0.878661  "
      ]
     },
     "execution_count": 158,
     "metadata": {},
     "output_type": "execute_result"
    }
   ],
   "source": [
    "new_df.head(15)"
   ]
  },
  {
   "cell_type": "code",
   "execution_count": 147,
   "metadata": {},
   "outputs": [],
   "source": [
    "import os\n",
    "\n",
    "from stable_baselines import results_plotter\n",
    "from stable_baselines.bench import Monitor\n",
    "from stable_baselines.results_plotter import load_results, ts2xy\n",
    "from stable_baselines.common.noise import AdaptiveParamNoiseSpec\n",
    "from stable_baselines.common.callbacks import BaseCallback\n",
    "\n",
    "\n",
    "class SaveOnBestTrainingRewardCallback(BaseCallback):\n",
    "    \"\"\"\n",
    "    Callback for saving a model (the check is done every ``check_freq`` steps)\n",
    "    based on the training reward (in practice, we recommend using ``EvalCallback``).\n",
    "\n",
    "    :param check_freq: (int)\n",
    "    :param log_dir: (str) Path to the folder where the model will be saved.\n",
    "      It must contains the file created by the ``Monitor`` wrapper.\n",
    "    :param verbose: (int)\n",
    "    \"\"\"\n",
    "    def __init__(self, check_freq: int, log_dir: str, verbose=1):\n",
    "        super(SaveOnBestTrainingRewardCallback, self).__init__(verbose)\n",
    "        self.check_freq = check_freq\n",
    "        self.log_dir = log_dir\n",
    "        self.save_path = os.path.join(log_dir, 'best_model')\n",
    "        self.best_mean_reward = -np.inf\n",
    "\n",
    "    def _init_callback(self) -> None:\n",
    "        # Create folder if needed\n",
    "        if self.save_path is not None:\n",
    "            os.makedirs(self.save_path, exist_ok=True)\n",
    "\n",
    "    def _on_step(self) -> bool:\n",
    "        if self.n_calls % self.check_freq == 0:\n",
    "\n",
    "            # Retrieve training reward\n",
    "            x, y = ts2xy(load_results(self.log_dir), 'timesteps')\n",
    "            if len(x) > 0:\n",
    "                # Mean training reward over the last 100 episodes\n",
    "                mean_reward = np.mean(y[-100:])\n",
    "                if self.verbose > 0:\n",
    "                    print(\"Num timesteps: {}\".format(self.num_timesteps))\n",
    "                    print(\"Best mean reward: {:.2f} - Last mean reward per episode: {:.2f}\".format(self.best_mean_reward, mean_reward))\n",
    "\n",
    "              # New best model, you could save the agent here\n",
    "                if mean_reward > self.best_mean_reward:\n",
    "                    self.best_mean_reward = mean_reward\n",
    "                    # Example for saving best model\n",
    "                    if self.verbose > 0:\n",
    "                        print(\"Saving new best model to {}\".format(self.save_path))\n",
    "                    self.model.save(self.save_path)\n",
    "\n",
    "        return True"
   ]
  },
  {
   "cell_type": "code",
   "execution_count": 159,
   "metadata": {
    "pycharm": {
     "name": "#%%\n"
    }
   },
   "outputs": [
    {
     "data": {
      "text/plain": [
       "array([[14.9220863 , 15.36895972, 15.3227634 , 14.71351598],\n",
       "       [14.62545083, 15.10611927, 15.05023931, 14.74582195],\n",
       "       [14.58582346, 15.03234181, 15.05616097, 15.188419  ],\n",
       "       [15.43671246, 15.89071597, 15.84086224, 15.19648496],\n",
       "       [14.81046515, 15.42689252, 15.3840066 , 15.25593733],\n",
       "       [14.58168107, 15.29039496, 15.19684907, 15.28662627],\n",
       "       [14.60409067, 15.40064143, 15.3187485 , 15.07364253],\n",
       "       [14.12745972, 14.93896256, 14.82271126, 15.04874456],\n",
       "       [13.49873685, 14.41141672, 14.26518833, 13.72343471],\n",
       "       [13.52368239, 14.40522135, 14.2051072 , 14.00391992],\n",
       "       [14.11931491, 15.04447992, 14.83549535, 14.84895018],\n",
       "       [14.71857798, 15.39709726, 15.25368231, 14.8177168 ],\n",
       "       [14.60688986, 15.34883106, 15.15151041, 14.69784755],\n",
       "       [14.17385326, 14.96715938, 14.78898081, 14.69530234],\n",
       "       [13.93180389, 14.84910627, 14.63272603, 15.09228627],\n",
       "       [14.74657574, 15.58815511, 15.37078249, 14.96961523],\n",
       "       [14.14017167, 15.14173565, 14.93443846, 15.24732365],\n",
       "       [13.65988849, 14.77746676, 14.51109745, 15.20565261],\n",
       "       [13.86611407, 15.02053402, 14.74969863, 15.24183462],\n",
       "       [13.1925478 , 14.44201237, 14.14403137, 15.22349609],\n",
       "       [13.32237798, 14.43140682, 14.15238769, 14.42315744],\n",
       "       [13.58918918, 14.65986898, 14.30925468, 14.6710911 ],\n",
       "       [13.8535088 , 15.05234506, 14.69566151, 15.4400032 ],\n",
       "       [14.57394738, 15.45630703, 15.17954415, 15.34150331],\n",
       "       [14.44385843, 15.40463228, 15.08447202, 15.07109037],\n",
       "       [14.0925311 , 15.03106802, 14.75366414, 15.08819229],\n",
       "       [14.00422431, 14.99088387, 14.71524008, 15.55140329],\n",
       "       [14.65292355, 15.68360183, 15.36612838, 15.58706615],\n",
       "       [14.51706156, 15.51034363, 15.24944929, 16.20234961],\n",
       "       [14.14661632, 15.19435813, 14.89315658, 16.30834109],\n",
       "       [14.4718389 , 15.51561139, 15.23233412, 16.48152709],\n",
       "       [13.88252297, 14.98424235, 14.67617389, 16.47726735],\n",
       "       [13.9385269 , 14.91348838, 14.65552659, 15.51731746],\n",
       "       [14.10442099, 15.12515438, 14.76514106, 15.55041109],\n",
       "       [14.44025867, 15.52558328, 15.16474928, 16.41407999],\n",
       "       [14.80757975, 15.73209004, 15.39285541, 15.97436235],\n",
       "       [14.55697991, 15.63925851, 15.24839727, 15.58160694],\n",
       "       [14.34150855, 15.31965418, 14.9895659 , 15.70140164],\n",
       "       [14.42659931, 15.33007349, 15.0859023 , 16.18481234],\n",
       "       [14.94114266, 16.00988798, 15.64525376, 16.22631895],\n",
       "       [14.92799798, 15.90372977, 15.59717338, 16.70300883],\n",
       "       [14.72350059, 15.69800299, 15.38375797, 16.88047837],\n",
       "       [14.96047329, 15.96975183, 15.66987496, 16.88859649],\n",
       "       [14.55624625, 15.52638384, 15.22199945, 17.00643118],\n",
       "       [14.18101365, 15.20718423, 14.8918228 , 15.67153197],\n",
       "       [14.22544951, 15.33188342, 14.90769533, 15.65706109],\n",
       "       [14.76566984, 15.85043974, 15.45301644, 16.65828911],\n",
       "       [14.99590577, 16.00315147, 15.60825148, 16.30454833],\n",
       "       [14.71327998, 15.89651397, 15.44119854, 15.95699193],\n",
       "       [14.4946471 , 15.58603481, 15.1853208 , 16.03248348],\n",
       "       [14.56842666, 15.58937704, 15.27683975, 16.49249304],\n",
       "       [15.1236527 , 16.28513893, 15.85578318, 16.49960596],\n",
       "       [15.00715091, 16.13855291, 15.75204186, 16.88436802],\n",
       "       [14.80631989, 15.94561166, 15.54936051, 16.99360892],\n",
       "       [14.99798289, 16.19448507, 15.80778962, 16.98379088],\n",
       "       [14.59645873, 15.75496047, 15.36157296, 17.0441293 ],\n",
       "       [14.15482994, 15.39948022, 14.98354367, 15.83473775],\n",
       "       [14.19436492, 15.50664268, 14.98693515, 15.91854362],\n",
       "       [14.75509016, 16.04557461, 15.55269596, 16.84213463],\n",
       "       [15.04785129, 16.22240147, 15.74465579, 16.57874958]])"
      ]
     },
     "execution_count": 159,
     "metadata": {},
     "output_type": "execute_result"
    }
   ],
   "source": [
    "env2.signal_features"
   ]
  },
  {
   "cell_type": "code",
   "execution_count": 149,
   "metadata": {
    "pycharm": {
     "name": "#%%\n"
    }
   },
   "outputs": [],
   "source": [
    "env_maker = lambda: env2\n",
    "env = DummyVecEnv([env_maker])"
   ]
  },
  {
   "cell_type": "code",
   "execution_count": 150,
   "metadata": {
    "pycharm": {
     "name": "#%%\n"
    }
   },
   "outputs": [
    {
     "ename": "AttributeError",
     "evalue": "'DummyVecEnv' object has no attribute 'reward_range'",
     "output_type": "error",
     "traceback": [
      "\u001B[0;31m---------------------------------------------------------------------------\u001B[0m",
      "\u001B[0;31mAttributeError\u001B[0m                            Traceback (most recent call last)",
      "\u001B[0;32m<ipython-input-150-2350550177f8>\u001B[0m in \u001B[0;36m<module>\u001B[0;34m\u001B[0m\n\u001B[1;32m      1\u001B[0m \u001B[0mlog_dir\u001B[0m \u001B[0;34m=\u001B[0m \u001B[0;34m\"tmp/\"\u001B[0m\u001B[0;34m\u001B[0m\u001B[0;34m\u001B[0m\u001B[0m\n\u001B[1;32m      2\u001B[0m \u001B[0mos\u001B[0m\u001B[0;34m.\u001B[0m\u001B[0mmakedirs\u001B[0m\u001B[0;34m(\u001B[0m\u001B[0mlog_dir\u001B[0m\u001B[0;34m,\u001B[0m \u001B[0mexist_ok\u001B[0m\u001B[0;34m=\u001B[0m\u001B[0;32mTrue\u001B[0m\u001B[0;34m)\u001B[0m\u001B[0;34m\u001B[0m\u001B[0;34m\u001B[0m\u001B[0m\n\u001B[0;32m----> 3\u001B[0;31m \u001B[0menv\u001B[0m \u001B[0;34m=\u001B[0m \u001B[0mMonitor\u001B[0m\u001B[0;34m(\u001B[0m\u001B[0menv\u001B[0m\u001B[0;34m,\u001B[0m \u001B[0mlog_dir\u001B[0m\u001B[0;34m)\u001B[0m\u001B[0;34m\u001B[0m\u001B[0;34m\u001B[0m\u001B[0m\n\u001B[0m\u001B[1;32m      4\u001B[0m \u001B[0mmodel\u001B[0m \u001B[0;34m=\u001B[0m \u001B[0mPPO2\u001B[0m\u001B[0;34m(\u001B[0m\u001B[0;34m'MlpPolicy'\u001B[0m\u001B[0;34m,\u001B[0m \u001B[0menv\u001B[0m\u001B[0;34m,\u001B[0m \u001B[0mverbose\u001B[0m\u001B[0;34m=\u001B[0m\u001B[0;36m1\u001B[0m\u001B[0;34m)\u001B[0m\u001B[0;34m\u001B[0m\u001B[0;34m\u001B[0m\u001B[0m\n\u001B[1;32m      5\u001B[0m \u001B[0mcallback\u001B[0m \u001B[0;34m=\u001B[0m \u001B[0mSaveOnBestTrainingRewardCallback\u001B[0m\u001B[0;34m(\u001B[0m\u001B[0mcheck_freq\u001B[0m\u001B[0;34m=\u001B[0m\u001B[0;36m1000\u001B[0m\u001B[0;34m,\u001B[0m \u001B[0mlog_dir\u001B[0m\u001B[0;34m=\u001B[0m\u001B[0mlog_dir\u001B[0m\u001B[0;34m)\u001B[0m\u001B[0;34m\u001B[0m\u001B[0;34m\u001B[0m\u001B[0m\n",
      "\u001B[0;32m~/Studies/dl_diploma/venv/lib/python3.7/site-packages/stable_baselines/bench/monitor.py\u001B[0m in \u001B[0;36m__init__\u001B[0;34m(self, env, filename, allow_early_resets, reset_keywords, info_keywords)\u001B[0m\n\u001B[1;32m     32\u001B[0m                  \u001B[0mreset_keywords\u001B[0m\u001B[0;34m=\u001B[0m\u001B[0;34m(\u001B[0m\u001B[0;34m)\u001B[0m\u001B[0;34m,\u001B[0m\u001B[0;34m\u001B[0m\u001B[0;34m\u001B[0m\u001B[0m\n\u001B[1;32m     33\u001B[0m                  info_keywords=()):\n\u001B[0;32m---> 34\u001B[0;31m         \u001B[0msuper\u001B[0m\u001B[0;34m(\u001B[0m\u001B[0mMonitor\u001B[0m\u001B[0;34m,\u001B[0m \u001B[0mself\u001B[0m\u001B[0;34m)\u001B[0m\u001B[0;34m.\u001B[0m\u001B[0m__init__\u001B[0m\u001B[0;34m(\u001B[0m\u001B[0menv\u001B[0m\u001B[0;34m=\u001B[0m\u001B[0menv\u001B[0m\u001B[0;34m)\u001B[0m\u001B[0;34m\u001B[0m\u001B[0;34m\u001B[0m\u001B[0m\n\u001B[0m\u001B[1;32m     35\u001B[0m         \u001B[0mself\u001B[0m\u001B[0;34m.\u001B[0m\u001B[0mt_start\u001B[0m \u001B[0;34m=\u001B[0m \u001B[0mtime\u001B[0m\u001B[0;34m.\u001B[0m\u001B[0mtime\u001B[0m\u001B[0;34m(\u001B[0m\u001B[0;34m)\u001B[0m\u001B[0;34m\u001B[0m\u001B[0;34m\u001B[0m\u001B[0m\n\u001B[1;32m     36\u001B[0m         \u001B[0;32mif\u001B[0m \u001B[0mfilename\u001B[0m \u001B[0;32mis\u001B[0m \u001B[0;32mNone\u001B[0m\u001B[0;34m:\u001B[0m\u001B[0;34m\u001B[0m\u001B[0;34m\u001B[0m\u001B[0m\n",
      "\u001B[0;32m~/Studies/dl_diploma/venv/lib/python3.7/site-packages/gym/core.py\u001B[0m in \u001B[0;36m__init__\u001B[0;34m(self, env)\u001B[0m\n\u001B[1;32m    215\u001B[0m         \u001B[0mself\u001B[0m\u001B[0;34m.\u001B[0m\u001B[0maction_space\u001B[0m \u001B[0;34m=\u001B[0m \u001B[0mself\u001B[0m\u001B[0;34m.\u001B[0m\u001B[0menv\u001B[0m\u001B[0;34m.\u001B[0m\u001B[0maction_space\u001B[0m\u001B[0;34m\u001B[0m\u001B[0;34m\u001B[0m\u001B[0m\n\u001B[1;32m    216\u001B[0m         \u001B[0mself\u001B[0m\u001B[0;34m.\u001B[0m\u001B[0mobservation_space\u001B[0m \u001B[0;34m=\u001B[0m \u001B[0mself\u001B[0m\u001B[0;34m.\u001B[0m\u001B[0menv\u001B[0m\u001B[0;34m.\u001B[0m\u001B[0mobservation_space\u001B[0m\u001B[0;34m\u001B[0m\u001B[0;34m\u001B[0m\u001B[0m\n\u001B[0;32m--> 217\u001B[0;31m         \u001B[0mself\u001B[0m\u001B[0;34m.\u001B[0m\u001B[0mreward_range\u001B[0m \u001B[0;34m=\u001B[0m \u001B[0mself\u001B[0m\u001B[0;34m.\u001B[0m\u001B[0menv\u001B[0m\u001B[0;34m.\u001B[0m\u001B[0mreward_range\u001B[0m\u001B[0;34m\u001B[0m\u001B[0;34m\u001B[0m\u001B[0m\n\u001B[0m\u001B[1;32m    218\u001B[0m         \u001B[0mself\u001B[0m\u001B[0;34m.\u001B[0m\u001B[0mmetadata\u001B[0m \u001B[0;34m=\u001B[0m \u001B[0mself\u001B[0m\u001B[0;34m.\u001B[0m\u001B[0menv\u001B[0m\u001B[0;34m.\u001B[0m\u001B[0mmetadata\u001B[0m\u001B[0;34m\u001B[0m\u001B[0;34m\u001B[0m\u001B[0m\n\u001B[1;32m    219\u001B[0m \u001B[0;34m\u001B[0m\u001B[0m\n",
      "\u001B[0;31mAttributeError\u001B[0m: 'DummyVecEnv' object has no attribute 'reward_range'"
     ]
    }
   ],
   "source": [
    "log_dir = \"tmp/\"\n",
    "os.makedirs(log_dir, exist_ok=True)\n",
    "env = Monitor(env, log_dir)\n",
    "model = PPO2('MlpPolicy', env, verbose=1)\n",
    "callback = SaveOnBestTrainingRewardCallback(check_freq=1000, log_dir=log_dir)\n",
    "model.learn(total_timesteps=100000, callback=callback)"
   ]
  },
  {
   "cell_type": "code",
   "execution_count": 131,
   "metadata": {},
   "outputs": [],
   "source": [
    "model.save('stock_traiding_model')\n"
   ]
  },
  {
   "cell_type": "code",
   "execution_count": 132,
   "metadata": {},
   "outputs": [],
   "source": [
    "del model"
   ]
  },
  {
   "cell_type": "code",
   "execution_count": 134,
   "metadata": {},
   "outputs": [
    {
     "name": "stdout",
     "output_type": "stream",
     "text": [
      "Loading a model without an environment, this model cannot be trained until it has a valid environment.\n"
     ]
    }
   ],
   "source": [
    "model = PPO2.load(\"stock_traiding_model\")"
   ]
  },
  {
   "cell_type": "code",
   "execution_count": 141,
   "metadata": {
    "pycharm": {
     "name": "#%%\n"
    }
   },
   "outputs": [
    {
     "name": "stdout",
     "output_type": "stream",
     "text": [
      "info {'total_reward': 8.202969531841456, 'total_profit': 1.3991349252424847, 'position': 0}\n"
     ]
    }
   ],
   "source": [
    "env = aapl_custom_env(df=new_df, window_size=10, frame_bound=(10,len(new_df)))\n",
    "obs = env.reset()\n",
    "\n",
    "# obs_first = obs[np.newaxis, ...] \n",
    "# action, _states = model.predict(obs_first)\n",
    "# obs, rewards, done, info = env.step(action)\n",
    "# print(obs, done)\n",
    "# obs_second = obs[np.newaxis, ...]\n",
    "# action, _states = model.predict(obs_second)\n",
    "# obs, rewards, done, info = env.step(action)\n",
    "# print(obs)\n",
    "# print('info', info)\n",
    "while True:\n",
    "#     action, _states = model.predict(obs)\n",
    "#     obs, rewards, done, info = env.step(action)\n",
    "    obs = obs[np.newaxis, ...]\n",
    "    action, _states = model.predict(obs)\n",
    "    obs, rewards, done, info = env.step(action)\n",
    "    if done:\n",
    "        print('info', info)\n",
    "        break"
   ]
  },
  {
   "cell_type": "code",
   "execution_count": 142,
   "metadata": {},
   "outputs": [
    {
     "data": {
      "image/png": "[encoded data removed]",
      "text/plain": [
       "<Figure size 1440x720 with 1 Axes>"
      ]
     },
     "metadata": {
      "needs_background": "light"
     },
     "output_type": "display_data"
    }
   ],
   "source": [
    "plt.figure(figsize=(20,10))\n",
    "plt.cla()\n",
    "env.render_all()\n",
    "plt.show()"
   ]
  }
 ],
 "metadata": {
  "kernelspec": {
   "display_name": "Python 3",
   "language": "python",
   "name": "python3"
  },
  "language_info": {
   "codemirror_mode": {
    "name": "ipython",
    "version": 3
   },
   "file_extension": ".py",
   "mimetype": "text/x-python",
   "name": "python",
   "nbconvert_exporter": "python",
   "pygments_lexer": "ipython3",
   "version": "3.7.10"
  }
 },
 "nbformat": 4,
 "nbformat_minor": 1
}