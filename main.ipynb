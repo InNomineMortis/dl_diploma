{
 "cells": [
  {
   "cell_type": "markdown",
   "metadata": {
    "pycharm": {
     "name": "#%% md\n"
    }
   },
   "source": [
    "## Importing dependencies"
   ]
  },
  {
   "cell_type": "code",
   "execution_count": 1,
   "metadata": {
    "pycharm": {
     "name": "#%%\n"
    }
   },
   "outputs": [],
   "source": [
    "import gym\n",
    "import gym_anytrading\n",
    "from gym_anytrading.envs import StocksEnv\n",
    "from gym_anytrading.datasets import STOCKS_GOOGL"
   ]
  },
  {
   "cell_type": "markdown",
   "metadata": {
    "pycharm": {
     "name": "#%% md\n"
    }
   },
   "source": [
    "## RL dependencies"
   ]
  },
  {
   "cell_type": "code",
   "execution_count": 2,
   "metadata": {
    "pycharm": {
     "name": "#%%\n"
    }
   },
   "outputs": [
    {
     "name": "stdout",
     "output_type": "stream",
     "text": [
      "WARNING:tensorflow:\n",
      "The TensorFlow contrib module will not be included in TensorFlow 2.0.\n",
      "For more information, please see:\n",
      "  * https://github.com/tensorflow/community/blob/master/rfcs/20180907-contrib-sunset.md\n",
      "  * https://github.com/tensorflow/addons\n",
      "  * https://github.com/tensorflow/io (for I/O related ops)\n",
      "If you depend on functionality not listed there, please file an issue.\n",
      "\n"
     ]
    },
    {
     "name": "stderr",
     "output_type": "stream",
     "text": [
      "/home/dippy/Studies/dl_diploma/venv/lib/python3.7/site-packages/stable_baselines/__init__.py:33: UserWarning: stable-baselines is in maintenance mode, please use [Stable-Baselines3 (SB3)](https://github.com/DLR-RM/stable-baselines3) for an up-to-date version. You can find a [migration guide](https://stable-baselines3.readthedocs.io/en/master/guide/migration.html) in SB3 documentation.\n",
      "  \"stable-baselines is in maintenance mode, please use [Stable-Baselines3 (SB3)](https://github.com/DLR-RM/stable-baselines3) for an up-to-date version. You can find a [migration guide](https://stable-baselines3.readthedocs.io/en/master/guide/migration.html) in SB3 documentation.\"\n"
     ]
    }
   ],
   "source": [
    "from stable_baselines.common.vec_env import DummyVecEnv\n",
    "from stable_baselines import A2C"
   ]
  },
  {
   "cell_type": "markdown",
   "metadata": {
    "pycharm": {
     "name": "#%% md\n"
    }
   },
   "source": [
    "## Processing dependencies"
   ]
  },
  {
   "cell_type": "code",
   "execution_count": 3,
   "metadata": {
    "pycharm": {
     "name": "#%%\n"
    }
   },
   "outputs": [],
   "source": [
    "import numpy as np\n",
    "import pandas as pnd\n",
    "from matplotlib import pyplot as plt"
   ]
  },
  {
   "cell_type": "code",
   "execution_count": 4,
   "metadata": {},
   "outputs": [
    {
     "data": {
      "text/html": [
       "<div>\n",
       "<style scoped>\n",
       "    .dataframe tbody tr th:only-of-type {\n",
       "        vertical-align: middle;\n",
       "    }\n",
       "\n",
       "    .dataframe tbody tr th {\n",
       "        vertical-align: top;\n",
       "    }\n",
       "\n",
       "    .dataframe thead th {\n",
       "        text-align: right;\n",
       "    }\n",
       "</style>\n",
       "<table border=\"1\" class=\"dataframe\">\n",
       "  <thead>\n",
       "    <tr style=\"text-align: right;\">\n",
       "      <th></th>\n",
       "      <th>date</th>\n",
       "      <th>volume</th>\n",
       "      <th>open</th>\n",
       "      <th>close</th>\n",
       "      <th>high</th>\n",
       "      <th>low</th>\n",
       "      <th>adjclose</th>\n",
       "    </tr>\n",
       "  </thead>\n",
       "  <tbody>\n",
       "    <tr>\n",
       "      <th>0</th>\n",
       "      <td>2018-11-02</td>\n",
       "      <td>91263400</td>\n",
       "      <td>209.550003</td>\n",
       "      <td>207.479996</td>\n",
       "      <td>213.649994</td>\n",
       "      <td>205.429993</td>\n",
       "      <td>207.479996</td>\n",
       "    </tr>\n",
       "    <tr>\n",
       "      <th>1</th>\n",
       "      <td>2018-11-01</td>\n",
       "      <td>58323200</td>\n",
       "      <td>219.050003</td>\n",
       "      <td>222.220001</td>\n",
       "      <td>222.360001</td>\n",
       "      <td>216.809998</td>\n",
       "      <td>222.220001</td>\n",
       "    </tr>\n",
       "    <tr>\n",
       "      <th>2</th>\n",
       "      <td>2018-10-31</td>\n",
       "      <td>38358900</td>\n",
       "      <td>216.880005</td>\n",
       "      <td>218.860001</td>\n",
       "      <td>220.449997</td>\n",
       "      <td>216.619995</td>\n",
       "      <td>218.860001</td>\n",
       "    </tr>\n",
       "    <tr>\n",
       "      <th>3</th>\n",
       "      <td>2018-10-30</td>\n",
       "      <td>36660000</td>\n",
       "      <td>211.149994</td>\n",
       "      <td>213.300003</td>\n",
       "      <td>215.179993</td>\n",
       "      <td>209.270004</td>\n",
       "      <td>213.300003</td>\n",
       "    </tr>\n",
       "    <tr>\n",
       "      <th>4</th>\n",
       "      <td>2018-10-29</td>\n",
       "      <td>45935500</td>\n",
       "      <td>219.190002</td>\n",
       "      <td>212.240005</td>\n",
       "      <td>219.690002</td>\n",
       "      <td>206.089996</td>\n",
       "      <td>212.240005</td>\n",
       "    </tr>\n",
       "  </tbody>\n",
       "</table>\n",
       "</div>"
      ],
      "text/plain": [
       "         date    volume        open       close        high         low  \\\n",
       "0  2018-11-02  91263400  209.550003  207.479996  213.649994  205.429993   \n",
       "1  2018-11-01  58323200  219.050003  222.220001  222.360001  216.809998   \n",
       "2  2018-10-31  38358900  216.880005  218.860001  220.449997  216.619995   \n",
       "3  2018-10-30  36660000  211.149994  213.300003  215.179993  209.270004   \n",
       "4  2018-10-29  45935500  219.190002  212.240005  219.690002  206.089996   \n",
       "\n",
       "     adjclose  \n",
       "0  207.479996  \n",
       "1  222.220001  \n",
       "2  218.860001  \n",
       "3  213.300003  \n",
       "4  212.240005  "
      ]
     },
     "execution_count": 4,
     "metadata": {},
     "output_type": "execute_result"
    }
   ],
   "source": [
    "df = pnd.read_csv('datasets/AAPL.csv')\n",
    "df.head()"
   ]
  },
  {
   "cell_type": "code",
   "execution_count": 5,
   "metadata": {
    "pycharm": {
     "name": "#%%\n"
    }
   },
   "outputs": [
    {
     "data": {
      "text/plain": [
       "date        datetime64[ns]\n",
       "volume               int64\n",
       "open               float64\n",
       "close              float64\n",
       "high               float64\n",
       "low                float64\n",
       "adjclose           float64\n",
       "dtype: object"
      ]
     },
     "execution_count": 5,
     "metadata": {},
     "output_type": "execute_result"
    }
   ],
   "source": [
    "df['date'] = pnd.to_datetime(df['date'])\n",
    "df.dtypes"
   ]
  },
  {
   "cell_type": "code",
   "execution_count": 6,
   "metadata": {
    "pycharm": {
     "name": "#%%\n"
    }
   },
   "outputs": [
    {
     "data": {
      "text/html": [
       "<div>\n",
       "<style scoped>\n",
       "    .dataframe tbody tr th:only-of-type {\n",
       "        vertical-align: middle;\n",
       "    }\n",
       "\n",
       "    .dataframe tbody tr th {\n",
       "        vertical-align: top;\n",
       "    }\n",
       "\n",
       "    .dataframe thead th {\n",
       "        text-align: right;\n",
       "    }\n",
       "</style>\n",
       "<table border=\"1\" class=\"dataframe\">\n",
       "  <thead>\n",
       "    <tr style=\"text-align: right;\">\n",
       "      <th></th>\n",
       "      <th>date</th>\n",
       "      <th>volume</th>\n",
       "      <th>open</th>\n",
       "      <th>close</th>\n",
       "      <th>high</th>\n",
       "      <th>low</th>\n",
       "      <th>adjclose</th>\n",
       "    </tr>\n",
       "  </thead>\n",
       "  <tbody>\n",
       "    <tr>\n",
       "      <th>9555</th>\n",
       "      <td>1980-12-12</td>\n",
       "      <td>117258400</td>\n",
       "      <td>0.513393</td>\n",
       "      <td>0.513393</td>\n",
       "      <td>0.515625</td>\n",
       "      <td>0.513393</td>\n",
       "      <td>0.023186</td>\n",
       "    </tr>\n",
       "    <tr>\n",
       "      <th>9554</th>\n",
       "      <td>1980-12-15</td>\n",
       "      <td>43971200</td>\n",
       "      <td>0.488839</td>\n",
       "      <td>0.486607</td>\n",
       "      <td>0.488839</td>\n",
       "      <td>0.486607</td>\n",
       "      <td>0.021977</td>\n",
       "    </tr>\n",
       "    <tr>\n",
       "      <th>9553</th>\n",
       "      <td>1980-12-16</td>\n",
       "      <td>26432000</td>\n",
       "      <td>0.453125</td>\n",
       "      <td>0.450893</td>\n",
       "      <td>0.453125</td>\n",
       "      <td>0.450893</td>\n",
       "      <td>0.020364</td>\n",
       "    </tr>\n",
       "    <tr>\n",
       "      <th>9552</th>\n",
       "      <td>1980-12-17</td>\n",
       "      <td>21610400</td>\n",
       "      <td>0.462054</td>\n",
       "      <td>0.462054</td>\n",
       "      <td>0.464286</td>\n",
       "      <td>0.462054</td>\n",
       "      <td>0.020868</td>\n",
       "    </tr>\n",
       "    <tr>\n",
       "      <th>9551</th>\n",
       "      <td>1980-12-18</td>\n",
       "      <td>18362400</td>\n",
       "      <td>0.475446</td>\n",
       "      <td>0.475446</td>\n",
       "      <td>0.477679</td>\n",
       "      <td>0.475446</td>\n",
       "      <td>0.021473</td>\n",
       "    </tr>\n",
       "  </tbody>\n",
       "</table>\n",
       "</div>"
      ],
      "text/plain": [
       "           date     volume      open     close      high       low  adjclose\n",
       "9555 1980-12-12  117258400  0.513393  0.513393  0.515625  0.513393  0.023186\n",
       "9554 1980-12-15   43971200  0.488839  0.486607  0.488839  0.486607  0.021977\n",
       "9553 1980-12-16   26432000  0.453125  0.450893  0.453125  0.450893  0.020364\n",
       "9552 1980-12-17   21610400  0.462054  0.462054  0.464286  0.462054  0.020868\n",
       "9551 1980-12-18   18362400  0.475446  0.475446  0.477679  0.475446  0.021473"
      ]
     },
     "execution_count": 6,
     "metadata": {},
     "output_type": "execute_result"
    }
   ],
   "source": [
    "df.sort_values('date', ascending=True, inplace=True)\n",
    "df.head()"
   ]
  },
  {
   "cell_type": "code",
   "execution_count": 7,
   "metadata": {
    "pycharm": {
     "name": "#%%\n"
    }
   },
   "outputs": [],
   "source": [
    "df.set_index('date', inplace=True)\n",
    "df.drop(columns=['adjclose'], inplace=True)"
   ]
  },
  {
   "cell_type": "code",
   "execution_count": 8,
   "metadata": {
    "pycharm": {
     "name": "#%%\n"
    }
   },
   "outputs": [
    {
     "data": {
      "text/html": [
       "<div>\n",
       "<style scoped>\n",
       "    .dataframe tbody tr th:only-of-type {\n",
       "        vertical-align: middle;\n",
       "    }\n",
       "\n",
       "    .dataframe tbody tr th {\n",
       "        vertical-align: top;\n",
       "    }\n",
       "\n",
       "    .dataframe thead th {\n",
       "        text-align: right;\n",
       "    }\n",
       "</style>\n",
       "<table border=\"1\" class=\"dataframe\">\n",
       "  <thead>\n",
       "    <tr style=\"text-align: right;\">\n",
       "      <th></th>\n",
       "      <th>volume</th>\n",
       "      <th>open</th>\n",
       "      <th>close</th>\n",
       "      <th>high</th>\n",
       "      <th>low</th>\n",
       "    </tr>\n",
       "    <tr>\n",
       "      <th>date</th>\n",
       "      <th></th>\n",
       "      <th></th>\n",
       "      <th></th>\n",
       "      <th></th>\n",
       "      <th></th>\n",
       "    </tr>\n",
       "  </thead>\n",
       "  <tbody>\n",
       "    <tr>\n",
       "      <th>1980-12-12</th>\n",
       "      <td>117258400</td>\n",
       "      <td>0.513393</td>\n",
       "      <td>0.513393</td>\n",
       "      <td>0.515625</td>\n",
       "      <td>0.513393</td>\n",
       "    </tr>\n",
       "    <tr>\n",
       "      <th>1980-12-15</th>\n",
       "      <td>43971200</td>\n",
       "      <td>0.488839</td>\n",
       "      <td>0.486607</td>\n",
       "      <td>0.488839</td>\n",
       "      <td>0.486607</td>\n",
       "    </tr>\n",
       "    <tr>\n",
       "      <th>1980-12-16</th>\n",
       "      <td>26432000</td>\n",
       "      <td>0.453125</td>\n",
       "      <td>0.450893</td>\n",
       "      <td>0.453125</td>\n",
       "      <td>0.450893</td>\n",
       "    </tr>\n",
       "    <tr>\n",
       "      <th>1980-12-17</th>\n",
       "      <td>21610400</td>\n",
       "      <td>0.462054</td>\n",
       "      <td>0.462054</td>\n",
       "      <td>0.464286</td>\n",
       "      <td>0.462054</td>\n",
       "    </tr>\n",
       "    <tr>\n",
       "      <th>1980-12-18</th>\n",
       "      <td>18362400</td>\n",
       "      <td>0.475446</td>\n",
       "      <td>0.475446</td>\n",
       "      <td>0.477679</td>\n",
       "      <td>0.475446</td>\n",
       "    </tr>\n",
       "  </tbody>\n",
       "</table>\n",
       "</div>"
      ],
      "text/plain": [
       "               volume      open     close      high       low\n",
       "date                                                         \n",
       "1980-12-12  117258400  0.513393  0.513393  0.515625  0.513393\n",
       "1980-12-15   43971200  0.488839  0.486607  0.488839  0.486607\n",
       "1980-12-16   26432000  0.453125  0.450893  0.453125  0.450893\n",
       "1980-12-17   21610400  0.462054  0.462054  0.464286  0.462054\n",
       "1980-12-18   18362400  0.475446  0.475446  0.477679  0.475446"
      ]
     },
     "execution_count": 8,
     "metadata": {},
     "output_type": "execute_result"
    }
   ],
   "source": [
    "df.head()"
   ]
  },
  {
   "cell_type": "code",
   "execution_count": 9,
   "metadata": {
    "pycharm": {
     "name": "#%%\n"
    }
   },
   "outputs": [],
   "source": [
    "def aapl_process_data(df, window_size, frame_bound):\n",
    "    start = frame_bound[0] - window_size\n",
    "    end = frame_bound[1]\n",
    "    prices = df.loc[:, 'low'].to_numpy()[start:end]\n",
    "    signal_features = df.loc[:, ['close', 'open', 'high', 'low']].to_numpy()[start:end]\n",
    "    return prices, signal_features\n",
    "\n",
    "\n",
    "class aapl_stocks(StocksEnv):\n",
    "\n",
    "    def __init__(self, prices, signal_features, **kwargs):\n",
    "        self._prices = prices\n",
    "        self._signal_features = signal_features\n",
    "        super().__init__(**kwargs)\n",
    "\n",
    "    def _process_data(self):\n",
    "        return self._prices, self._signal_features\n"
   ]
  },
  {
   "cell_type": "code",
   "execution_count": 10,
   "metadata": {
    "pycharm": {
     "name": "#%%\n"
    }
   },
   "outputs": [],
   "source": [
    "prices, signal_features = aapl_process_data(df=df, window_size=30, frame_bound=(30, len(df)))\n",
    "env = aapl_stocks(prices, signal_features, df=df, frame_bound=(30, len(df)), window_size=6)"
   ]
  },
  {
   "cell_type": "code",
   "execution_count": 11,
   "metadata": {
    "pycharm": {
     "name": "#%%\n"
    }
   },
   "outputs": [
    {
     "data": {
      "text/plain": [
       "array([[  0.51339287,   0.51339287,   0.515625  ,   0.51339287],\n",
       "       [  0.48660713,   0.4888393 ,   0.4888393 ,   0.48660713],\n",
       "       [  0.45089287,   0.453125  ,   0.453125  ,   0.45089287],\n",
       "       ...,\n",
       "       [218.86000061, 216.88000488, 220.44999695, 216.61999512],\n",
       "       [222.22000122, 219.05000305, 222.36000061, 216.80999756],\n",
       "       [207.47999573, 209.55000305, 213.6499939 , 205.42999268]])"
      ]
     },
     "execution_count": 11,
     "metadata": {},
     "output_type": "execute_result"
    }
   ],
   "source": [
    "env.signal_features"
   ]
  },
  {
   "cell_type": "code",
   "execution_count": 12,
   "metadata": {
    "pycharm": {
     "name": "#%%\n"
    }
   },
   "outputs": [
    {
     "data": {
      "text/plain": [
       "Discrete(2)"
      ]
     },
     "execution_count": 12,
     "metadata": {},
     "output_type": "execute_result"
    }
   ],
   "source": [
    "env.action_space"
   ]
  },
  {
   "cell_type": "code",
   "execution_count": 13,
   "metadata": {
    "pycharm": {
     "name": "#%%\n"
    }
   },
   "outputs": [
    {
     "data": {
      "text/html": [
       "<div>\n",
       "<style scoped>\n",
       "    .dataframe tbody tr th:only-of-type {\n",
       "        vertical-align: middle;\n",
       "    }\n",
       "\n",
       "    .dataframe tbody tr th {\n",
       "        vertical-align: top;\n",
       "    }\n",
       "\n",
       "    .dataframe thead th {\n",
       "        text-align: right;\n",
       "    }\n",
       "</style>\n",
       "<table border=\"1\" class=\"dataframe\">\n",
       "  <thead>\n",
       "    <tr style=\"text-align: right;\">\n",
       "      <th></th>\n",
       "      <th>volume</th>\n",
       "      <th>open</th>\n",
       "      <th>close</th>\n",
       "      <th>high</th>\n",
       "      <th>low</th>\n",
       "      <th>SMA</th>\n",
       "      <th>RSI</th>\n",
       "      <th>OBV</th>\n",
       "    </tr>\n",
       "    <tr>\n",
       "      <th>date</th>\n",
       "      <th></th>\n",
       "      <th></th>\n",
       "      <th></th>\n",
       "      <th></th>\n",
       "      <th></th>\n",
       "      <th></th>\n",
       "      <th></th>\n",
       "      <th></th>\n",
       "    </tr>\n",
       "  </thead>\n",
       "  <tbody>\n",
       "    <tr>\n",
       "      <th>1980-12-12</th>\n",
       "      <td>117258400</td>\n",
       "      <td>0.513393</td>\n",
       "      <td>0.513393</td>\n",
       "      <td>0.515625</td>\n",
       "      <td>0.513393</td>\n",
       "      <td>0.000000</td>\n",
       "      <td>0.000000</td>\n",
       "      <td>0.0</td>\n",
       "    </tr>\n",
       "    <tr>\n",
       "      <th>1980-12-15</th>\n",
       "      <td>43971200</td>\n",
       "      <td>0.488839</td>\n",
       "      <td>0.486607</td>\n",
       "      <td>0.488839</td>\n",
       "      <td>0.486607</td>\n",
       "      <td>0.000000</td>\n",
       "      <td>0.000000</td>\n",
       "      <td>-43971200.0</td>\n",
       "    </tr>\n",
       "    <tr>\n",
       "      <th>1980-12-16</th>\n",
       "      <td>26432000</td>\n",
       "      <td>0.453125</td>\n",
       "      <td>0.450893</td>\n",
       "      <td>0.453125</td>\n",
       "      <td>0.450893</td>\n",
       "      <td>0.000000</td>\n",
       "      <td>0.000000</td>\n",
       "      <td>-70403200.0</td>\n",
       "    </tr>\n",
       "    <tr>\n",
       "      <th>1980-12-17</th>\n",
       "      <td>21610400</td>\n",
       "      <td>0.462054</td>\n",
       "      <td>0.462054</td>\n",
       "      <td>0.464286</td>\n",
       "      <td>0.462054</td>\n",
       "      <td>0.000000</td>\n",
       "      <td>16.554039</td>\n",
       "      <td>-48792800.0</td>\n",
       "    </tr>\n",
       "    <tr>\n",
       "      <th>1980-12-18</th>\n",
       "      <td>18362400</td>\n",
       "      <td>0.475446</td>\n",
       "      <td>0.475446</td>\n",
       "      <td>0.477679</td>\n",
       "      <td>0.475446</td>\n",
       "      <td>0.000000</td>\n",
       "      <td>31.259631</td>\n",
       "      <td>-30430400.0</td>\n",
       "    </tr>\n",
       "    <tr>\n",
       "      <th>1980-12-19</th>\n",
       "      <td>12157600</td>\n",
       "      <td>0.504464</td>\n",
       "      <td>0.504464</td>\n",
       "      <td>0.506696</td>\n",
       "      <td>0.504464</td>\n",
       "      <td>0.000000</td>\n",
       "      <td>51.289430</td>\n",
       "      <td>-18272800.0</td>\n",
       "    </tr>\n",
       "    <tr>\n",
       "      <th>1980-12-22</th>\n",
       "      <td>9340800</td>\n",
       "      <td>0.529018</td>\n",
       "      <td>0.529018</td>\n",
       "      <td>0.531250</td>\n",
       "      <td>0.529018</td>\n",
       "      <td>0.000000</td>\n",
       "      <td>61.509486</td>\n",
       "      <td>-8932000.0</td>\n",
       "    </tr>\n",
       "    <tr>\n",
       "      <th>1980-12-23</th>\n",
       "      <td>11737600</td>\n",
       "      <td>0.551339</td>\n",
       "      <td>0.551339</td>\n",
       "      <td>0.553571</td>\n",
       "      <td>0.551339</td>\n",
       "      <td>0.000000</td>\n",
       "      <td>68.068523</td>\n",
       "      <td>2805600.0</td>\n",
       "    </tr>\n",
       "    <tr>\n",
       "      <th>1980-12-24</th>\n",
       "      <td>12000800</td>\n",
       "      <td>0.580357</td>\n",
       "      <td>0.580357</td>\n",
       "      <td>0.582589</td>\n",
       "      <td>0.580357</td>\n",
       "      <td>0.000000</td>\n",
       "      <td>74.219068</td>\n",
       "      <td>14806400.0</td>\n",
       "    </tr>\n",
       "    <tr>\n",
       "      <th>1980-12-26</th>\n",
       "      <td>13893600</td>\n",
       "      <td>0.633929</td>\n",
       "      <td>0.633929</td>\n",
       "      <td>0.636161</td>\n",
       "      <td>0.633929</td>\n",
       "      <td>0.000000</td>\n",
       "      <td>81.358079</td>\n",
       "      <td>28700000.0</td>\n",
       "    </tr>\n",
       "    <tr>\n",
       "      <th>1980-12-29</th>\n",
       "      <td>23290400</td>\n",
       "      <td>0.642857</td>\n",
       "      <td>0.642857</td>\n",
       "      <td>0.645089</td>\n",
       "      <td>0.642857</td>\n",
       "      <td>0.000000</td>\n",
       "      <td>82.240743</td>\n",
       "      <td>51990400.0</td>\n",
       "    </tr>\n",
       "    <tr>\n",
       "      <th>1980-12-30</th>\n",
       "      <td>17220000</td>\n",
       "      <td>0.629464</td>\n",
       "      <td>0.627232</td>\n",
       "      <td>0.629464</td>\n",
       "      <td>0.627232</td>\n",
       "      <td>0.538132</td>\n",
       "      <td>75.503297</td>\n",
       "      <td>34770400.0</td>\n",
       "    </tr>\n",
       "    <tr>\n",
       "      <th>1980-12-31</th>\n",
       "      <td>8937600</td>\n",
       "      <td>0.611607</td>\n",
       "      <td>0.609375</td>\n",
       "      <td>0.611607</td>\n",
       "      <td>0.609375</td>\n",
       "      <td>0.546131</td>\n",
       "      <td>68.587681</td>\n",
       "      <td>25832800.0</td>\n",
       "    </tr>\n",
       "    <tr>\n",
       "      <th>1981-01-02</th>\n",
       "      <td>5415200</td>\n",
       "      <td>0.616071</td>\n",
       "      <td>0.616071</td>\n",
       "      <td>0.620536</td>\n",
       "      <td>0.616071</td>\n",
       "      <td>0.556920</td>\n",
       "      <td>69.708164</td>\n",
       "      <td>31248000.0</td>\n",
       "    </tr>\n",
       "    <tr>\n",
       "      <th>1981-01-05</th>\n",
       "      <td>8932000</td>\n",
       "      <td>0.604911</td>\n",
       "      <td>0.602679</td>\n",
       "      <td>0.604911</td>\n",
       "      <td>0.602679</td>\n",
       "      <td>0.569568</td>\n",
       "      <td>64.734722</td>\n",
       "      <td>22316000.0</td>\n",
       "    </tr>\n",
       "  </tbody>\n",
       "</table>\n",
       "</div>"
      ],
      "text/plain": [
       "               volume      open     close      high       low       SMA  \\\n",
       "date                                                                      \n",
       "1980-12-12  117258400  0.513393  0.513393  0.515625  0.513393  0.000000   \n",
       "1980-12-15   43971200  0.488839  0.486607  0.488839  0.486607  0.000000   \n",
       "1980-12-16   26432000  0.453125  0.450893  0.453125  0.450893  0.000000   \n",
       "1980-12-17   21610400  0.462054  0.462054  0.464286  0.462054  0.000000   \n",
       "1980-12-18   18362400  0.475446  0.475446  0.477679  0.475446  0.000000   \n",
       "1980-12-19   12157600  0.504464  0.504464  0.506696  0.504464  0.000000   \n",
       "1980-12-22    9340800  0.529018  0.529018  0.531250  0.529018  0.000000   \n",
       "1980-12-23   11737600  0.551339  0.551339  0.553571  0.551339  0.000000   \n",
       "1980-12-24   12000800  0.580357  0.580357  0.582589  0.580357  0.000000   \n",
       "1980-12-26   13893600  0.633929  0.633929  0.636161  0.633929  0.000000   \n",
       "1980-12-29   23290400  0.642857  0.642857  0.645089  0.642857  0.000000   \n",
       "1980-12-30   17220000  0.629464  0.627232  0.629464  0.627232  0.538132   \n",
       "1980-12-31    8937600  0.611607  0.609375  0.611607  0.609375  0.546131   \n",
       "1981-01-02    5415200  0.616071  0.616071  0.620536  0.616071  0.556920   \n",
       "1981-01-05    8932000  0.604911  0.602679  0.604911  0.602679  0.569568   \n",
       "\n",
       "                  RSI         OBV  \n",
       "date                               \n",
       "1980-12-12   0.000000         0.0  \n",
       "1980-12-15   0.000000 -43971200.0  \n",
       "1980-12-16   0.000000 -70403200.0  \n",
       "1980-12-17  16.554039 -48792800.0  \n",
       "1980-12-18  31.259631 -30430400.0  \n",
       "1980-12-19  51.289430 -18272800.0  \n",
       "1980-12-22  61.509486  -8932000.0  \n",
       "1980-12-23  68.068523   2805600.0  \n",
       "1980-12-24  74.219068  14806400.0  \n",
       "1980-12-26  81.358079  28700000.0  \n",
       "1980-12-29  82.240743  51990400.0  \n",
       "1980-12-30  75.503297  34770400.0  \n",
       "1980-12-31  68.587681  25832800.0  \n",
       "1981-01-02  69.708164  31248000.0  \n",
       "1981-01-05  64.734722  22316000.0  "
      ]
     },
     "execution_count": 13,
     "metadata": {},
     "output_type": "execute_result"
    }
   ],
   "source": [
    "from finta import TA\n",
    "\n",
    "df['SMA'] = TA.SMA(df, 12)\n",
    "df['RSI'] = TA.RSI(df)\n",
    "df['OBV'] = TA.OBV(df)\n",
    "df.fillna(0, inplace=True)\n",
    "df.head(15)"
   ]
  },
  {
   "cell_type": "code",
   "execution_count": 20,
   "metadata": {
    "pycharm": {
     "name": "#%%\n"
    }
   },
   "outputs": [],
   "source": [
    "def add_signals(env):\n",
    "    start = env.frame_bound[0] - env.window_size\n",
    "    end = env.frame_bound[1]\n",
    "    prices = env.df.loc[:, 'low'].to_numpy()[start:end]\n",
    "    signal_features = env.df.loc[:, ['low', 'volume','SMA', 'RSI', 'OBV']].to_numpy()[start:end]\n",
    "    return prices, signal_features\n",
    "\n",
    "class aapl_custom_env(StocksEnv):\n",
    "    _process_data = add_signals\n",
    "\n",
    "env2 = aapl_custom_env(df=df, window_size=10, frame_bound=(10,len(df)))"
   ]
  },
  {
   "cell_type": "code",
   "execution_count": 21,
   "metadata": {
    "pycharm": {
     "name": "#%%\n"
    }
   },
   "outputs": [
    {
     "data": {
      "text/plain": "array([[ 5.13392866e-01,  1.17258400e+08,  0.00000000e+00,\n         0.00000000e+00,  0.00000000e+00],\n       [ 4.86607134e-01,  4.39712000e+07,  0.00000000e+00,\n         0.00000000e+00, -4.39712000e+07],\n       [ 4.50892866e-01,  2.64320000e+07,  0.00000000e+00,\n         0.00000000e+00, -7.04032000e+07],\n       ...,\n       [ 2.16619995e+02,  3.83589000e+07,  2.18136667e+02,\n         4.97008863e+01,  3.93234619e+10],\n       [ 2.16809998e+02,  5.83232000e+07,  2.18142501e+02,\n         5.30868059e+01,  3.93817851e+10],\n       [ 2.05429993e+02,  9.12634000e+07,  2.17000000e+02,\n         4.02775853e+01,  3.92905217e+10]])"
     },
     "execution_count": 21,
     "metadata": {},
     "output_type": "execute_result"
    }
   ],
   "source": [
    "env2.signal_features"
   ]
  },
  {
   "cell_type": "code",
   "execution_count": 22,
   "metadata": {
    "pycharm": {
     "name": "#%%\n"
    }
   },
   "outputs": [],
   "source": [
    "env_maker = lambda: env2\n",
    "env3 = DummyVecEnv([env_maker])"
   ]
  },
  {
   "cell_type": "code",
   "execution_count": 23,
   "metadata": {
    "pycharm": {
     "name": "#%%\n"
    }
   },
   "outputs": [
    {
     "name": "stdout",
     "output_type": "stream",
     "text": [
      "---------------------------------\n",
      "| explained_variance | -41.5    |\n",
      "| fps                | 8        |\n",
      "| nupdates           | 1        |\n",
      "| policy_entropy     | 0.693    |\n",
      "| total_timesteps    | 5        |\n",
      "| value_loss         | 0.00257  |\n",
      "---------------------------------\n",
      "---------------------------------\n",
      "| explained_variance | -3.52    |\n",
      "| fps                | 357      |\n",
      "| nupdates           | 100      |\n",
      "| policy_entropy     | 0.693    |\n",
      "| total_timesteps    | 500      |\n",
      "| value_loss         | 0.000273 |\n",
      "---------------------------------\n",
      "---------------------------------\n",
      "| explained_variance | -0.971   |\n",
      "| fps                | 412      |\n",
      "| nupdates           | 200      |\n",
      "| policy_entropy     | 0.692    |\n",
      "| total_timesteps    | 1000     |\n",
      "| value_loss         | 0.000493 |\n",
      "---------------------------------\n",
      "---------------------------------\n",
      "| explained_variance | -0.0707  |\n",
      "| fps                | 455      |\n",
      "| nupdates           | 300      |\n",
      "| policy_entropy     | 0.693    |\n",
      "| total_timesteps    | 1500     |\n",
      "| value_loss         | 0.00249  |\n",
      "---------------------------------\n",
      "---------------------------------\n",
      "| explained_variance | -0.779   |\n",
      "| fps                | 481      |\n",
      "| nupdates           | 400      |\n",
      "| policy_entropy     | 0.693    |\n",
      "| total_timesteps    | 2000     |\n",
      "| value_loss         | 0.00101  |\n",
      "---------------------------------\n",
      "---------------------------------\n",
      "| explained_variance | 0.293    |\n",
      "| fps                | 490      |\n",
      "| nupdates           | 500      |\n",
      "| policy_entropy     | 0.693    |\n",
      "| total_timesteps    | 2500     |\n",
      "| value_loss         | 0.000484 |\n",
      "---------------------------------\n",
      "---------------------------------\n",
      "| explained_variance | -58      |\n",
      "| fps                | 508      |\n",
      "| nupdates           | 600      |\n",
      "| policy_entropy     | 0.693    |\n",
      "| total_timesteps    | 3000     |\n",
      "| value_loss         | 0.00631  |\n",
      "---------------------------------\n",
      "----------------------------------\n",
      "| explained_variance | -8.31e+03 |\n",
      "| fps                | 508       |\n",
      "| nupdates           | 700       |\n",
      "| policy_entropy     | 0.693     |\n",
      "| total_timesteps    | 3500      |\n",
      "| value_loss         | 0.00221   |\n",
      "----------------------------------\n",
      "----------------------------------\n",
      "| explained_variance | -5.31e+04 |\n",
      "| fps                | 520       |\n",
      "| nupdates           | 800       |\n",
      "| policy_entropy     | 0.693     |\n",
      "| total_timesteps    | 4000      |\n",
      "| value_loss         | 0.000207  |\n",
      "----------------------------------\n",
      "---------------------------------\n",
      "| explained_variance | -0.298   |\n",
      "| fps                | 515      |\n",
      "| nupdates           | 900      |\n",
      "| policy_entropy     | 0.693    |\n",
      "| total_timesteps    | 4500     |\n",
      "| value_loss         | 0.000522 |\n",
      "---------------------------------\n",
      "---------------------------------\n",
      "| explained_variance | -0.192   |\n",
      "| fps                | 522      |\n",
      "| nupdates           | 1000     |\n",
      "| policy_entropy     | 0.681    |\n",
      "| total_timesteps    | 5000     |\n",
      "| value_loss         | 0.00422  |\n",
      "---------------------------------\n",
      "---------------------------------\n",
      "| explained_variance | -0.503   |\n",
      "| fps                | 527      |\n",
      "| nupdates           | 1100     |\n",
      "| policy_entropy     | 0.68     |\n",
      "| total_timesteps    | 5500     |\n",
      "| value_loss         | 0.000811 |\n",
      "---------------------------------\n",
      "---------------------------------\n",
      "| explained_variance | -0.104   |\n",
      "| fps                | 528      |\n",
      "| nupdates           | 1200     |\n",
      "| policy_entropy     | 0.693    |\n",
      "| total_timesteps    | 6000     |\n",
      "| value_loss         | 0.00228  |\n",
      "---------------------------------\n",
      "---------------------------------\n",
      "| explained_variance | -0.0656  |\n",
      "| fps                | 530      |\n",
      "| nupdates           | 1300     |\n",
      "| policy_entropy     | 0.693    |\n",
      "| total_timesteps    | 6500     |\n",
      "| value_loss         | 0.175    |\n",
      "---------------------------------\n",
      "---------------------------------\n",
      "| explained_variance | 0.0545   |\n",
      "| fps                | 533      |\n",
      "| nupdates           | 1400     |\n",
      "| policy_entropy     | 0.681    |\n",
      "| total_timesteps    | 7000     |\n",
      "| value_loss         | 0.945    |\n",
      "---------------------------------\n",
      "---------------------------------\n",
      "| explained_variance | -0.144   |\n",
      "| fps                | 538      |\n",
      "| nupdates           | 1500     |\n",
      "| policy_entropy     | 0.69     |\n",
      "| total_timesteps    | 7500     |\n",
      "| value_loss         | 0.126    |\n",
      "---------------------------------\n",
      "---------------------------------\n",
      "| explained_variance | 0.255    |\n",
      "| fps                | 539      |\n",
      "| nupdates           | 1600     |\n",
      "| policy_entropy     | 0.692    |\n",
      "| total_timesteps    | 8000     |\n",
      "| value_loss         | 0.00263  |\n",
      "---------------------------------\n",
      "---------------------------------\n",
      "| explained_variance | 0.0468   |\n",
      "| fps                | 542      |\n",
      "| nupdates           | 1700     |\n",
      "| policy_entropy     | 0.69     |\n",
      "| total_timesteps    | 8500     |\n",
      "| value_loss         | 1.47     |\n",
      "---------------------------------\n",
      "---------------------------------\n",
      "| explained_variance | 0.311    |\n",
      "| fps                | 546      |\n",
      "| nupdates           | 1800     |\n",
      "| policy_entropy     | 0.594    |\n",
      "| total_timesteps    | 9000     |\n",
      "| value_loss         | 0.455    |\n",
      "---------------------------------\n",
      "---------------------------------\n",
      "| explained_variance | 0.358    |\n",
      "| fps                | 551      |\n",
      "| nupdates           | 1900     |\n",
      "| policy_entropy     | 0.627    |\n",
      "| total_timesteps    | 9500     |\n",
      "| value_loss         | 11.3     |\n",
      "---------------------------------\n",
      "---------------------------------\n",
      "| explained_variance | -10.6    |\n",
      "| fps                | 549      |\n",
      "| nupdates           | 2000     |\n",
      "| policy_entropy     | 0.693    |\n",
      "| total_timesteps    | 10000    |\n",
      "| value_loss         | 0.0048   |\n",
      "---------------------------------\n",
      "----------------------------------\n",
      "| explained_variance | -1.75e+03 |\n",
      "| fps                | 550       |\n",
      "| nupdates           | 2100      |\n",
      "| policy_entropy     | 0.692     |\n",
      "| total_timesteps    | 10500     |\n",
      "| value_loss         | 0.00388   |\n",
      "----------------------------------\n",
      "---------------------------------\n",
      "| explained_variance | -0.531   |\n",
      "| fps                | 553      |\n",
      "| nupdates           | 2200     |\n",
      "| policy_entropy     | 0.692    |\n",
      "| total_timesteps    | 11000    |\n",
      "| value_loss         | 2.92e-05 |\n",
      "---------------------------------\n",
      "---------------------------------\n",
      "| explained_variance | -35.1    |\n",
      "| fps                | 548      |\n",
      "| nupdates           | 2300     |\n",
      "| policy_entropy     | 0.693    |\n",
      "| total_timesteps    | 11500    |\n",
      "| value_loss         | 0.00204  |\n",
      "---------------------------------\n",
      "---------------------------------\n",
      "| explained_variance | -25.4    |\n",
      "| fps                | 548      |\n",
      "| nupdates           | 2400     |\n",
      "| policy_entropy     | 0.676    |\n",
      "| total_timesteps    | 12000    |\n",
      "| value_loss         | 0.000123 |\n",
      "---------------------------------\n",
      "---------------------------------\n",
      "| explained_variance | -0.895   |\n",
      "| fps                | 549      |\n",
      "| nupdates           | 2500     |\n",
      "| policy_entropy     | 0.68     |\n",
      "| total_timesteps    | 12500    |\n",
      "| value_loss         | 0.000493 |\n",
      "---------------------------------\n",
      "---------------------------------\n",
      "| explained_variance | -136     |\n",
      "| fps                | 546      |\n",
      "| nupdates           | 2600     |\n",
      "| policy_entropy     | 0.689    |\n",
      "| total_timesteps    | 13000    |\n",
      "| value_loss         | 0.00234  |\n",
      "---------------------------------\n",
      "---------------------------------\n",
      "| explained_variance | 0.325    |\n",
      "| fps                | 548      |\n",
      "| nupdates           | 2700     |\n",
      "| policy_entropy     | 0.693    |\n",
      "| total_timesteps    | 13500    |\n",
      "| value_loss         | 0.00162  |\n",
      "---------------------------------\n",
      "---------------------------------\n",
      "| explained_variance | 0.333    |\n",
      "| fps                | 548      |\n",
      "| nupdates           | 2800     |\n",
      "| policy_entropy     | 0.693    |\n",
      "| total_timesteps    | 14000    |\n",
      "| value_loss         | 4.26e-06 |\n",
      "---------------------------------\n",
      "---------------------------------\n",
      "| explained_variance | -0.0483  |\n",
      "| fps                | 552      |\n",
      "| nupdates           | 2900     |\n",
      "| policy_entropy     | 0.686    |\n",
      "| total_timesteps    | 14500    |\n",
      "| value_loss         | 0.077    |\n",
      "---------------------------------\n",
      "---------------------------------\n",
      "| explained_variance | 0.682    |\n",
      "| fps                | 551      |\n",
      "| nupdates           | 3000     |\n",
      "| policy_entropy     | 0.693    |\n",
      "| total_timesteps    | 15000    |\n",
      "| value_loss         | 3.84e-05 |\n",
      "---------------------------------\n",
      "---------------------------------\n",
      "| explained_variance | -0.648   |\n",
      "| fps                | 555      |\n",
      "| nupdates           | 3100     |\n",
      "| policy_entropy     | 0.693    |\n",
      "| total_timesteps    | 15500    |\n",
      "| value_loss         | 0.000292 |\n",
      "---------------------------------\n",
      "---------------------------------\n",
      "| explained_variance | -0.00328 |\n",
      "| fps                | 557      |\n",
      "| nupdates           | 3200     |\n",
      "| policy_entropy     | 0.683    |\n",
      "| total_timesteps    | 16000    |\n",
      "| value_loss         | 0.978    |\n",
      "---------------------------------\n",
      "---------------------------------\n",
      "| explained_variance | 0.0436   |\n",
      "| fps                | 558      |\n",
      "| nupdates           | 3300     |\n",
      "| policy_entropy     | 0.686    |\n",
      "| total_timesteps    | 16500    |\n",
      "| value_loss         | 3.45     |\n",
      "---------------------------------\n",
      "---------------------------------\n",
      "| explained_variance | -0.157   |\n",
      "| fps                | 561      |\n",
      "| nupdates           | 3400     |\n",
      "| policy_entropy     | 0.693    |\n",
      "| total_timesteps    | 17000    |\n",
      "| value_loss         | 0.0418   |\n",
      "---------------------------------\n",
      "---------------------------------\n",
      "| explained_variance | 0.00144  |\n",
      "| fps                | 563      |\n",
      "| nupdates           | 3500     |\n",
      "| policy_entropy     | 0.682    |\n",
      "| total_timesteps    | 17500    |\n",
      "| value_loss         | 9.86     |\n",
      "---------------------------------\n"
     ]
    },
    {
     "ename": "KeyboardInterrupt",
     "evalue": "",
     "output_type": "error",
     "traceback": [
      "\u001B[0;31m---------------------------------------------------------------------------\u001B[0m",
      "\u001B[0;31mKeyboardInterrupt\u001B[0m                         Traceback (most recent call last)",
      "\u001B[0;32m<ipython-input-23-2210112d5653>\u001B[0m in \u001B[0;36m<module>\u001B[0;34m\u001B[0m\n\u001B[1;32m      1\u001B[0m \u001B[0mmodel\u001B[0m \u001B[0;34m=\u001B[0m \u001B[0mA2C\u001B[0m\u001B[0;34m(\u001B[0m\u001B[0;34m'MlpLstmPolicy'\u001B[0m\u001B[0;34m,\u001B[0m \u001B[0menv3\u001B[0m\u001B[0;34m,\u001B[0m \u001B[0mverbose\u001B[0m\u001B[0;34m=\u001B[0m\u001B[0;36m1\u001B[0m\u001B[0;34m)\u001B[0m\u001B[0;34m\u001B[0m\u001B[0;34m\u001B[0m\u001B[0m\n\u001B[0;32m----> 2\u001B[0;31m \u001B[0mmodel\u001B[0m\u001B[0;34m.\u001B[0m\u001B[0mlearn\u001B[0m\u001B[0;34m(\u001B[0m\u001B[0mtotal_timesteps\u001B[0m\u001B[0;34m=\u001B[0m\u001B[0;36m500000\u001B[0m\u001B[0;34m)\u001B[0m\u001B[0;34m\u001B[0m\u001B[0;34m\u001B[0m\u001B[0m\n\u001B[0m\u001B[1;32m      3\u001B[0m \u001B[0;34m\u001B[0m\u001B[0m\n",
      "\u001B[0;32m~/Studies/dl_diploma/venv/lib/python3.7/site-packages/stable_baselines/a2c/a2c.py\u001B[0m in \u001B[0;36mlearn\u001B[0;34m(self, total_timesteps, callback, log_interval, tb_log_name, reset_num_timesteps)\u001B[0m\n\u001B[1;32m    273\u001B[0m                 \u001B[0mself\u001B[0m\u001B[0;34m.\u001B[0m\u001B[0mep_info_buf\u001B[0m\u001B[0;34m.\u001B[0m\u001B[0mextend\u001B[0m\u001B[0;34m(\u001B[0m\u001B[0mep_infos\u001B[0m\u001B[0;34m)\u001B[0m\u001B[0;34m\u001B[0m\u001B[0;34m\u001B[0m\u001B[0m\n\u001B[1;32m    274\u001B[0m                 _, value_loss, policy_entropy = self._train_step(obs, states, rewards, masks, actions, values,\n\u001B[0;32m--> 275\u001B[0;31m                                                                  self.num_timesteps // self.n_batch, writer)\n\u001B[0m\u001B[1;32m    276\u001B[0m                 \u001B[0mn_seconds\u001B[0m \u001B[0;34m=\u001B[0m \u001B[0mtime\u001B[0m\u001B[0;34m.\u001B[0m\u001B[0mtime\u001B[0m\u001B[0;34m(\u001B[0m\u001B[0;34m)\u001B[0m \u001B[0;34m-\u001B[0m \u001B[0mt_start\u001B[0m\u001B[0;34m\u001B[0m\u001B[0;34m\u001B[0m\u001B[0m\n\u001B[1;32m    277\u001B[0m                 \u001B[0mfps\u001B[0m \u001B[0;34m=\u001B[0m \u001B[0mint\u001B[0m\u001B[0;34m(\u001B[0m\u001B[0;34m(\u001B[0m\u001B[0mupdate\u001B[0m \u001B[0;34m*\u001B[0m \u001B[0mself\u001B[0m\u001B[0;34m.\u001B[0m\u001B[0mn_batch\u001B[0m\u001B[0;34m)\u001B[0m \u001B[0;34m/\u001B[0m \u001B[0mn_seconds\u001B[0m\u001B[0;34m)\u001B[0m\u001B[0;34m\u001B[0m\u001B[0;34m\u001B[0m\u001B[0m\n",
      "\u001B[0;32m~/Studies/dl_diploma/venv/lib/python3.7/site-packages/stable_baselines/a2c/a2c.py\u001B[0m in \u001B[0;36m_train_step\u001B[0;34m(self, obs, states, rewards, masks, actions, values, update, writer)\u001B[0m\n\u001B[1;32m    238\u001B[0m         \u001B[0;32melse\u001B[0m\u001B[0;34m:\u001B[0m\u001B[0;34m\u001B[0m\u001B[0;34m\u001B[0m\u001B[0m\n\u001B[1;32m    239\u001B[0m             policy_loss, value_loss, policy_entropy, _ = self.sess.run(\n\u001B[0;32m--> 240\u001B[0;31m                 [self.pg_loss, self.vf_loss, self.entropy, self.apply_backprop], td_map)\n\u001B[0m\u001B[1;32m    241\u001B[0m \u001B[0;34m\u001B[0m\u001B[0m\n\u001B[1;32m    242\u001B[0m         \u001B[0;32mreturn\u001B[0m \u001B[0mpolicy_loss\u001B[0m\u001B[0;34m,\u001B[0m \u001B[0mvalue_loss\u001B[0m\u001B[0;34m,\u001B[0m \u001B[0mpolicy_entropy\u001B[0m\u001B[0;34m\u001B[0m\u001B[0;34m\u001B[0m\u001B[0m\n",
      "\u001B[0;32m~/Studies/dl_diploma/venv/lib/python3.7/site-packages/tensorflow_core/python/client/session.py\u001B[0m in \u001B[0;36mrun\u001B[0;34m(self, fetches, feed_dict, options, run_metadata)\u001B[0m\n\u001B[1;32m    954\u001B[0m     \u001B[0;32mtry\u001B[0m\u001B[0;34m:\u001B[0m\u001B[0;34m\u001B[0m\u001B[0;34m\u001B[0m\u001B[0m\n\u001B[1;32m    955\u001B[0m       result = self._run(None, fetches, feed_dict, options_ptr,\n\u001B[0;32m--> 956\u001B[0;31m                          run_metadata_ptr)\n\u001B[0m\u001B[1;32m    957\u001B[0m       \u001B[0;32mif\u001B[0m \u001B[0mrun_metadata\u001B[0m\u001B[0;34m:\u001B[0m\u001B[0;34m\u001B[0m\u001B[0;34m\u001B[0m\u001B[0m\n\u001B[1;32m    958\u001B[0m         \u001B[0mproto_data\u001B[0m \u001B[0;34m=\u001B[0m \u001B[0mtf_session\u001B[0m\u001B[0;34m.\u001B[0m\u001B[0mTF_GetBuffer\u001B[0m\u001B[0;34m(\u001B[0m\u001B[0mrun_metadata_ptr\u001B[0m\u001B[0;34m)\u001B[0m\u001B[0;34m\u001B[0m\u001B[0;34m\u001B[0m\u001B[0m\n",
      "\u001B[0;32m~/Studies/dl_diploma/venv/lib/python3.7/site-packages/tensorflow_core/python/client/session.py\u001B[0m in \u001B[0;36m_run\u001B[0;34m(self, handle, fetches, feed_dict, options, run_metadata)\u001B[0m\n\u001B[1;32m   1178\u001B[0m     \u001B[0;32mif\u001B[0m \u001B[0mfinal_fetches\u001B[0m \u001B[0;32mor\u001B[0m \u001B[0mfinal_targets\u001B[0m \u001B[0;32mor\u001B[0m \u001B[0;34m(\u001B[0m\u001B[0mhandle\u001B[0m \u001B[0;32mand\u001B[0m \u001B[0mfeed_dict_tensor\u001B[0m\u001B[0;34m)\u001B[0m\u001B[0;34m:\u001B[0m\u001B[0;34m\u001B[0m\u001B[0;34m\u001B[0m\u001B[0m\n\u001B[1;32m   1179\u001B[0m       results = self._do_run(handle, final_targets, final_fetches,\n\u001B[0;32m-> 1180\u001B[0;31m                              feed_dict_tensor, options, run_metadata)\n\u001B[0m\u001B[1;32m   1181\u001B[0m     \u001B[0;32melse\u001B[0m\u001B[0;34m:\u001B[0m\u001B[0;34m\u001B[0m\u001B[0;34m\u001B[0m\u001B[0m\n\u001B[1;32m   1182\u001B[0m       \u001B[0mresults\u001B[0m \u001B[0;34m=\u001B[0m \u001B[0;34m[\u001B[0m\u001B[0;34m]\u001B[0m\u001B[0;34m\u001B[0m\u001B[0;34m\u001B[0m\u001B[0m\n",
      "\u001B[0;32m~/Studies/dl_diploma/venv/lib/python3.7/site-packages/tensorflow_core/python/client/session.py\u001B[0m in \u001B[0;36m_do_run\u001B[0;34m(self, handle, target_list, fetch_list, feed_dict, options, run_metadata)\u001B[0m\n\u001B[1;32m   1357\u001B[0m     \u001B[0;32mif\u001B[0m \u001B[0mhandle\u001B[0m \u001B[0;32mis\u001B[0m \u001B[0;32mNone\u001B[0m\u001B[0;34m:\u001B[0m\u001B[0;34m\u001B[0m\u001B[0;34m\u001B[0m\u001B[0m\n\u001B[1;32m   1358\u001B[0m       return self._do_call(_run_fn, feeds, fetches, targets, options,\n\u001B[0;32m-> 1359\u001B[0;31m                            run_metadata)\n\u001B[0m\u001B[1;32m   1360\u001B[0m     \u001B[0;32melse\u001B[0m\u001B[0;34m:\u001B[0m\u001B[0;34m\u001B[0m\u001B[0;34m\u001B[0m\u001B[0m\n\u001B[1;32m   1361\u001B[0m       \u001B[0;32mreturn\u001B[0m \u001B[0mself\u001B[0m\u001B[0;34m.\u001B[0m\u001B[0m_do_call\u001B[0m\u001B[0;34m(\u001B[0m\u001B[0m_prun_fn\u001B[0m\u001B[0;34m,\u001B[0m \u001B[0mhandle\u001B[0m\u001B[0;34m,\u001B[0m \u001B[0mfeeds\u001B[0m\u001B[0;34m,\u001B[0m \u001B[0mfetches\u001B[0m\u001B[0;34m)\u001B[0m\u001B[0;34m\u001B[0m\u001B[0;34m\u001B[0m\u001B[0m\n",
      "\u001B[0;32m~/Studies/dl_diploma/venv/lib/python3.7/site-packages/tensorflow_core/python/client/session.py\u001B[0m in \u001B[0;36m_do_call\u001B[0;34m(self, fn, *args)\u001B[0m\n\u001B[1;32m   1363\u001B[0m   \u001B[0;32mdef\u001B[0m \u001B[0m_do_call\u001B[0m\u001B[0;34m(\u001B[0m\u001B[0mself\u001B[0m\u001B[0;34m,\u001B[0m \u001B[0mfn\u001B[0m\u001B[0;34m,\u001B[0m \u001B[0;34m*\u001B[0m\u001B[0margs\u001B[0m\u001B[0;34m)\u001B[0m\u001B[0;34m:\u001B[0m\u001B[0;34m\u001B[0m\u001B[0;34m\u001B[0m\u001B[0m\n\u001B[1;32m   1364\u001B[0m     \u001B[0;32mtry\u001B[0m\u001B[0;34m:\u001B[0m\u001B[0;34m\u001B[0m\u001B[0;34m\u001B[0m\u001B[0m\n\u001B[0;32m-> 1365\u001B[0;31m       \u001B[0;32mreturn\u001B[0m \u001B[0mfn\u001B[0m\u001B[0;34m(\u001B[0m\u001B[0;34m*\u001B[0m\u001B[0margs\u001B[0m\u001B[0;34m)\u001B[0m\u001B[0;34m\u001B[0m\u001B[0;34m\u001B[0m\u001B[0m\n\u001B[0m\u001B[1;32m   1366\u001B[0m     \u001B[0;32mexcept\u001B[0m \u001B[0merrors\u001B[0m\u001B[0;34m.\u001B[0m\u001B[0mOpError\u001B[0m \u001B[0;32mas\u001B[0m \u001B[0me\u001B[0m\u001B[0;34m:\u001B[0m\u001B[0;34m\u001B[0m\u001B[0;34m\u001B[0m\u001B[0m\n\u001B[1;32m   1367\u001B[0m       \u001B[0mmessage\u001B[0m \u001B[0;34m=\u001B[0m \u001B[0mcompat\u001B[0m\u001B[0;34m.\u001B[0m\u001B[0mas_text\u001B[0m\u001B[0;34m(\u001B[0m\u001B[0me\u001B[0m\u001B[0;34m.\u001B[0m\u001B[0mmessage\u001B[0m\u001B[0;34m)\u001B[0m\u001B[0;34m\u001B[0m\u001B[0;34m\u001B[0m\u001B[0m\n",
      "\u001B[0;32m~/Studies/dl_diploma/venv/lib/python3.7/site-packages/tensorflow_core/python/client/session.py\u001B[0m in \u001B[0;36m_run_fn\u001B[0;34m(feed_dict, fetch_list, target_list, options, run_metadata)\u001B[0m\n\u001B[1;32m   1348\u001B[0m       \u001B[0mself\u001B[0m\u001B[0;34m.\u001B[0m\u001B[0m_extend_graph\u001B[0m\u001B[0;34m(\u001B[0m\u001B[0;34m)\u001B[0m\u001B[0;34m\u001B[0m\u001B[0;34m\u001B[0m\u001B[0m\n\u001B[1;32m   1349\u001B[0m       return self._call_tf_sessionrun(options, feed_dict, fetch_list,\n\u001B[0;32m-> 1350\u001B[0;31m                                       target_list, run_metadata)\n\u001B[0m\u001B[1;32m   1351\u001B[0m \u001B[0;34m\u001B[0m\u001B[0m\n\u001B[1;32m   1352\u001B[0m     \u001B[0;32mdef\u001B[0m \u001B[0m_prun_fn\u001B[0m\u001B[0;34m(\u001B[0m\u001B[0mhandle\u001B[0m\u001B[0;34m,\u001B[0m \u001B[0mfeed_dict\u001B[0m\u001B[0;34m,\u001B[0m \u001B[0mfetch_list\u001B[0m\u001B[0;34m)\u001B[0m\u001B[0;34m:\u001B[0m\u001B[0;34m\u001B[0m\u001B[0;34m\u001B[0m\u001B[0m\n",
      "\u001B[0;32m~/Studies/dl_diploma/venv/lib/python3.7/site-packages/tensorflow_core/python/client/session.py\u001B[0m in \u001B[0;36m_call_tf_sessionrun\u001B[0;34m(self, options, feed_dict, fetch_list, target_list, run_metadata)\u001B[0m\n\u001B[1;32m   1441\u001B[0m     return tf_session.TF_SessionRun_wrapper(self._session, options, feed_dict,\n\u001B[1;32m   1442\u001B[0m                                             \u001B[0mfetch_list\u001B[0m\u001B[0;34m,\u001B[0m \u001B[0mtarget_list\u001B[0m\u001B[0;34m,\u001B[0m\u001B[0;34m\u001B[0m\u001B[0;34m\u001B[0m\u001B[0m\n\u001B[0;32m-> 1443\u001B[0;31m                                             run_metadata)\n\u001B[0m\u001B[1;32m   1444\u001B[0m \u001B[0;34m\u001B[0m\u001B[0m\n\u001B[1;32m   1445\u001B[0m   \u001B[0;32mdef\u001B[0m \u001B[0m_call_tf_sessionprun\u001B[0m\u001B[0;34m(\u001B[0m\u001B[0mself\u001B[0m\u001B[0;34m,\u001B[0m \u001B[0mhandle\u001B[0m\u001B[0;34m,\u001B[0m \u001B[0mfeed_dict\u001B[0m\u001B[0;34m,\u001B[0m \u001B[0mfetch_list\u001B[0m\u001B[0;34m)\u001B[0m\u001B[0;34m:\u001B[0m\u001B[0;34m\u001B[0m\u001B[0;34m\u001B[0m\u001B[0m\n",
      "\u001B[0;31mKeyboardInterrupt\u001B[0m: "
     ]
    }
   ],
   "source": [
    "model = A2C('MlpLstmPolicy', env3, verbose=1)\n",
    "model.learn(total_timesteps=500000)"
   ]
  },
  {
   "cell_type": "code",
   "execution_count": 19,
   "metadata": {
    "pycharm": {
     "name": "#%%\n"
    }
   },
   "outputs": [
    {
     "ename": "IndexError",
     "evalue": "index 9558 is out of bounds for axis 0 with size 9556",
     "output_type": "error",
     "traceback": [
      "\u001B[0;31m---------------------------------------------------------------------------\u001B[0m",
      "\u001B[0;31mIndexError\u001B[0m                                Traceback (most recent call last)",
      "\u001B[0;32m<ipython-input-19-46cccac00652>\u001B[0m in \u001B[0;36m<module>\u001B[0;34m\u001B[0m\n\u001B[1;32m      2\u001B[0m \u001B[0;32mwhile\u001B[0m \u001B[0;32mTrue\u001B[0m\u001B[0;34m:\u001B[0m\u001B[0;34m\u001B[0m\u001B[0;34m\u001B[0m\u001B[0m\n\u001B[1;32m      3\u001B[0m     \u001B[0maction\u001B[0m \u001B[0;34m=\u001B[0m \u001B[0menv\u001B[0m\u001B[0;34m.\u001B[0m\u001B[0maction_space\u001B[0m\u001B[0;34m.\u001B[0m\u001B[0msample\u001B[0m\u001B[0;34m(\u001B[0m\u001B[0;34m)\u001B[0m\u001B[0;34m\u001B[0m\u001B[0;34m\u001B[0m\u001B[0m\n\u001B[0;32m----> 4\u001B[0;31m     \u001B[0mn_state\u001B[0m\u001B[0;34m,\u001B[0m \u001B[0mreward\u001B[0m\u001B[0;34m,\u001B[0m \u001B[0mdone\u001B[0m\u001B[0;34m,\u001B[0m \u001B[0minfo\u001B[0m \u001B[0;34m=\u001B[0m \u001B[0menv\u001B[0m\u001B[0;34m.\u001B[0m\u001B[0mstep\u001B[0m\u001B[0;34m(\u001B[0m\u001B[0maction\u001B[0m\u001B[0;34m)\u001B[0m\u001B[0;34m\u001B[0m\u001B[0;34m\u001B[0m\u001B[0m\n\u001B[0m\u001B[1;32m      5\u001B[0m     \u001B[0;32mif\u001B[0m \u001B[0mdone\u001B[0m\u001B[0;34m:\u001B[0m\u001B[0;34m\u001B[0m\u001B[0;34m\u001B[0m\u001B[0m\n\u001B[1;32m      6\u001B[0m         \u001B[0mprint\u001B[0m\u001B[0;34m(\u001B[0m\u001B[0;34m'info'\u001B[0m\u001B[0;34m,\u001B[0m \u001B[0minfo\u001B[0m\u001B[0;34m)\u001B[0m\u001B[0;34m\u001B[0m\u001B[0;34m\u001B[0m\u001B[0m\n",
      "\u001B[0;32m~/Studies/dl_diploma/venv/lib/python3.7/site-packages/gym_anytrading/envs/trading_env.py\u001B[0m in \u001B[0;36mstep\u001B[0;34m(self, action)\u001B[0m\n\u001B[1;32m     76\u001B[0m             \u001B[0mself\u001B[0m\u001B[0;34m.\u001B[0m\u001B[0m_done\u001B[0m \u001B[0;34m=\u001B[0m \u001B[0;32mTrue\u001B[0m\u001B[0;34m\u001B[0m\u001B[0;34m\u001B[0m\u001B[0m\n\u001B[1;32m     77\u001B[0m \u001B[0;34m\u001B[0m\u001B[0m\n\u001B[0;32m---> 78\u001B[0;31m         \u001B[0mstep_reward\u001B[0m \u001B[0;34m=\u001B[0m \u001B[0mself\u001B[0m\u001B[0;34m.\u001B[0m\u001B[0m_calculate_reward\u001B[0m\u001B[0;34m(\u001B[0m\u001B[0maction\u001B[0m\u001B[0;34m)\u001B[0m\u001B[0;34m\u001B[0m\u001B[0;34m\u001B[0m\u001B[0m\n\u001B[0m\u001B[1;32m     79\u001B[0m         \u001B[0mself\u001B[0m\u001B[0;34m.\u001B[0m\u001B[0m_total_reward\u001B[0m \u001B[0;34m+=\u001B[0m \u001B[0mstep_reward\u001B[0m\u001B[0;34m\u001B[0m\u001B[0;34m\u001B[0m\u001B[0m\n\u001B[1;32m     80\u001B[0m \u001B[0;34m\u001B[0m\u001B[0m\n",
      "\u001B[0;32m~/Studies/dl_diploma/venv/lib/python3.7/site-packages/gym_anytrading/envs/stocks_env.py\u001B[0m in \u001B[0;36m_calculate_reward\u001B[0;34m(self, action)\u001B[0m\n\u001B[1;32m     37\u001B[0m \u001B[0;34m\u001B[0m\u001B[0m\n\u001B[1;32m     38\u001B[0m         \u001B[0;32mif\u001B[0m \u001B[0mtrade\u001B[0m\u001B[0;34m:\u001B[0m\u001B[0;34m\u001B[0m\u001B[0;34m\u001B[0m\u001B[0m\n\u001B[0;32m---> 39\u001B[0;31m             \u001B[0mcurrent_price\u001B[0m \u001B[0;34m=\u001B[0m \u001B[0mself\u001B[0m\u001B[0;34m.\u001B[0m\u001B[0mprices\u001B[0m\u001B[0;34m[\u001B[0m\u001B[0mself\u001B[0m\u001B[0;34m.\u001B[0m\u001B[0m_current_tick\u001B[0m\u001B[0;34m]\u001B[0m\u001B[0;34m\u001B[0m\u001B[0;34m\u001B[0m\u001B[0m\n\u001B[0m\u001B[1;32m     40\u001B[0m             \u001B[0mlast_trade_price\u001B[0m \u001B[0;34m=\u001B[0m \u001B[0mself\u001B[0m\u001B[0;34m.\u001B[0m\u001B[0mprices\u001B[0m\u001B[0;34m[\u001B[0m\u001B[0mself\u001B[0m\u001B[0;34m.\u001B[0m\u001B[0m_last_trade_tick\u001B[0m\u001B[0;34m]\u001B[0m\u001B[0;34m\u001B[0m\u001B[0;34m\u001B[0m\u001B[0m\n\u001B[1;32m     41\u001B[0m             \u001B[0mprice_diff\u001B[0m \u001B[0;34m=\u001B[0m \u001B[0mcurrent_price\u001B[0m \u001B[0;34m-\u001B[0m \u001B[0mlast_trade_price\u001B[0m\u001B[0;34m\u001B[0m\u001B[0;34m\u001B[0m\u001B[0m\n",
      "\u001B[0;31mIndexError\u001B[0m: index 9558 is out of bounds for axis 0 with size 9556"
     ]
    }
   ],
   "source": [
    "state = env3.reset()\n",
    "while True:\n",
    "    action = env.action_space.sample()\n",
    "    n_state, reward, done, info = env.step(action)\n",
    "    if done:\n",
    "        print('info', info)\n",
    "        break\n",
    "plt.figure(figsize=(50,20))\n",
    "plt.cla()\n",
    "env.render_all()\n",
    "plt.show()"
   ]
  }
 ],
 "metadata": {
  "kernelspec": {
   "display_name": "Python 3",
   "language": "python",
   "name": "python3"
  },
  "language_info": {
   "codemirror_mode": {
    "name": "ipython",
    "version": 3
   },
   "file_extension": ".py",
   "mimetype": "text/x-python",
   "name": "python",
   "nbconvert_exporter": "python",
   "pygments_lexer": "ipython3",
   "version": "3.7.10"
  }
 },
 "nbformat": 4,
 "nbformat_minor": 1
}